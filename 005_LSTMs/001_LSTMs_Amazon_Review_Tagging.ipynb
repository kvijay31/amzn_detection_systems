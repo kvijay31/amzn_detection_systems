{
 "cells": [
  {
   "cell_type": "markdown",
   "metadata": {},
   "source": [
    "# Purpose: \n",
    "Perform LSTM model training on office and general"
   ]
  },
  {
   "cell_type": "code",
   "execution_count": 1,
   "metadata": {},
   "outputs": [
    {
     "name": "stderr",
     "output_type": "stream",
     "text": [
      "2023-05-27 18:21:43.180371: I tensorflow/core/platform/cpu_feature_guard.cc:182] This TensorFlow binary is optimized to use available CPU instructions in performance-critical operations.\n",
      "To enable the following instructions: SSE4.1 SSE4.2, in other operations, rebuild TensorFlow with the appropriate compiler flags.\n"
     ]
    }
   ],
   "source": [
    "import pandas as pd\n",
    "import re \n",
    "import numpy as np \n",
    "import spacy \n",
    "# from wordcloud import WordCloud\n",
    "from spacy.lang.en.stop_words import STOP_WORDS\n",
    "from spacy.tokens import Doc\n",
    "import re\n",
    "from tqdm import tqdm\n",
    "from tqdm.notebook import tqdm\n",
    "tqdm.pandas()\n",
    "import tensorflow as tf\n",
    "import matplotlib.pyplot as plt\n",
    "from tensorflow.keras.layers import LSTM, Dense,Embedding, Input, Dropout,BatchNormalization, Bidirectional\n",
    "from tensorflow import keras\n",
    "from tensorflow.keras import backend as be\n",
    "from tensorflow.keras import Sequential, Model\n",
    "from tensorflow.keras.preprocessing import sequence\n",
    "from tensorflow.keras.preprocessing.text import Tokenizer\n",
    "from tensorflow.keras.preprocessing.sequence import pad_sequences\n",
    "from sklearn.model_selection import train_test_split\n",
    "from sklearn.metrics import confusion_matrix, accuracy_score, classification_report\n",
    "from kerastuner import HyperModel"
   ]
  },
  {
   "cell_type": "code",
   "execution_count": 2,
   "metadata": {},
   "outputs": [
    {
     "name": "stdout",
     "output_type": "stream",
     "text": [
      "Indexing word vectors.\n",
      "Found 400000 word vectors.\n"
     ]
    }
   ],
   "source": [
    "# loading the pre-trained embedding file - glove.6B.100d.txt into embeddings_index matrix \n",
    "print('Indexing word vectors.')\n",
    "\n",
    "embeddings_index = {}\n",
    "f = open('glove.6B.100d.txt', encoding='utf-8')\n",
    "for line in f:\n",
    "    values = line.split()\n",
    "    word = values[0]\n",
    "    coefs = np.asarray(values[1:], dtype='float32')\n",
    "    embeddings_index[word] = coefs\n",
    "f.close()\n",
    "\n",
    "print('Found %s word vectors.' % len(embeddings_index))"
   ]
  },
  {
   "cell_type": "code",
   "execution_count": 1,
   "metadata": {},
   "outputs": [
    {
     "name": "stderr",
     "output_type": "stream",
     "text": [
      "The code failed because of a fatal error:\n",
      "\tError sending http request and maximum retry encountered..\n",
      "\n",
      "Some things to try:\n",
      "a) Make sure Spark has enough available resources for Jupyter to create a Spark context.\n",
      "b) Contact your Jupyter administrator to make sure the Spark magics library is configured correctly.\n",
      "c) Restart the kernel.\n"
     ]
    }
   ],
   "source": [
    "class MyHyperModel(HyperModel):\n",
    "    def __init__(self, vocab_size, embedding_matrix, hyperparameters):\n",
    "        self.vocab_size = vocab_size\n",
    "        self.embedding_matrix = embedding_matrix\n",
    "        self.hyperparameters = hyperparameters\n",
    "    \n",
    "    def build(self, hp):\n",
    "        input_ = layers.Input(shape=(512,))\n",
    "        embeds = layers.Embedding(self.vocab_size + 1, 100, input_length=512, weights=[self.embedding_matrix], trainable=False)(input_)\n",
    "        drop = layers.Dropout(dropout_rate)(embeds)\n",
    "        lstm_1 = layers.LSTM(units)(drop)\n",
    "        weight_dense = layers.Dense(units=256, activation='relu')(lstm_1)\n",
    "        drop_2 = layers.Dropout(units)(weight_dense)\n",
    "        output_layer = layers.Dense(1, activation='sigmoid')(drop_2)\n",
    "        model = keras.Model(inputs=input_, outputs=output_layer)\n",
    "        \n",
    "        # Set hyperparameters\n",
    "        learning_rate = hp.Choice('learning_rate', values=self.hyperparameters['learning_rate'])\n",
    "        units = hp.Choice('dropout_rate', values=self.hyperparameters['dropout_rate'])\n",
    "        units = hp.Choice('units', values=self.hyperparameters['units'])\n",
    "        lstm_units = hp.Choice('lstm_units', values=self.hyperparameters['lstm_units'])\n",
    "        \n",
    "        # Compile the model with the hyperparameters\n",
    "        optimizer = keras.optimizers.Adam(learning_rate=learning_rate)\n",
    "        model.compile(optimizer=optimizer, loss='binary_crossentropy', metrics=['accuracy'])\n",
    "        \n",
    "        return model\n",
    "\n"
   ]
  },
  {
   "cell_type": "code",
   "execution_count": 2,
   "metadata": {},
   "outputs": [
    {
     "name": "stderr",
     "output_type": "stream",
     "text": [
      "The code failed because of a fatal error:\n",
      "\tError sending http request and maximum retry encountered..\n",
      "\n",
      "Some things to try:\n",
      "a) Make sure Spark has enough available resources for Jupyter to create a Spark context.\n",
      "b) Contact your Jupyter administrator to make sure the Spark magics library is configured correctly.\n",
      "c) Restart the kernel.\n"
     ]
    }
   ],
   "source": [
    "hyperparameters = {\n",
    "    'learning_rate': [0.1, 0.01, 0.001],\n",
    "    'dropout_rate': [0.1,0.3, 0.4, 0.5],\n",
    "    'units': [128, 256, 512],\n",
    "    'lstm_units': [256, 350, 512]\n",
    "}\n",
    "hypermodel = MyHyperModel(vocab_size, embedding_matrix)\n",
    "tuner = kt.Hyperband(hypermodel, objective='val_accuracy', max_epochs=50, factor=3, directory='my_dir', project_name='my_project')\n",
    "tuner.search(x_train, y_train, validation_data=(x_val, y_val), epochs=10)\n",
    "best_hyperparameters = tuner.get_best_hyperparameters(1)[0]\n",
    "model = tuner.hypermodel.build(best_hyperparameters)\n"
   ]
  },
  {
   "cell_type": "code",
   "execution_count": 3,
   "metadata": {},
   "outputs": [],
   "source": [
    "def get_train_test_split(df, stratify_col, test_size=0.3, random_state=42): \n",
    "     \"\"\"\n",
    "    Split the DataFrame into training and test sets.\n",
    "\n",
    "    Args:\n",
    "        df (DataFrame): The input DataFrame to be split.\n",
    "        stratify_col: The column used for stratified splitting.\n",
    "        test_size (float): The proportion of the data to be included in the test set.\n",
    "        random_state (int): The random seed for reproducibility.\n",
    "\n",
    "    Returns:\n",
    "        tuple: A tuple containing the training and test sets.\n",
    "    \"\"\"\n",
    "    train, test_df = train_test_split(df, test_size= test_size, random_state=random_state, stratify= stratify_col)\n",
    "    return train, test_df\n",
    "\n",
    "def load_glove_embedding(glove_path): \n",
    "    \"\"\"\n",
    "    Load the GloVe word embeddings from the specified path.\n",
    "\n",
    "    Args:\n",
    "        glove_path (str): The path to the GloVe word embeddings file.\n",
    "\n",
    "    Returns:\n",
    "        dict: A dictionary mapping words to their corresponding word vectors.\n",
    "    \"\"\"\n",
    "    f = open(glove_path, encoding='utf-8')\n",
    "    for line in f:\n",
    "        values = line.split()\n",
    "        word = values[0]\n",
    "        coefs = np.asarray(values[1:], dtype='float32')\n",
    "        embeddings_index[word] = coefs\n",
    "    f.close()\n",
    "    print('Found %s word vectors.' % len(embeddings_index))\n",
    "    return embeddings_index\n",
    "\n",
    "\n",
    "def create_lstm_train_data(lstm_train_df,lstm_test_df, text_col_name, label_col_name): \n",
    "    X_train =lstm_train_df[text_col_name]\n",
    "    y_train= lstm_train_df[label_col_name]\n",
    "    X_test= lstm_test_df[text_col_name]\n",
    "    y_test= lstm_test_df[label_col_name]\n",
    "    #set up the tokenizer\n",
    "    # Encoding the reviews using Tokenizer from tensorflow preprocessing \n",
    "    #set up the tokenizer\n",
    "    MAX_VOCAB_SIZE = 15000 \n",
    "    # Set up tokenizer and keep max_vocab_size based on the word frequency, oov_token is given to be added to the word_index during the text_to_sequences call\n",
    "    tokenizer = Tokenizer(num_words = MAX_VOCAB_SIZE,oov_token=\"<oov>\", lower=True)\n",
    "    tokenizer.fit_on_texts(X_train)\n",
    "    # determination of the  training data vocabulary size\n",
    "    vocab_index = tokenizer.word_index\n",
    "    #print(word_index)\n",
    "    V = len(vocab_index)\n",
    "    ##create sequences of reviews\n",
    "    # transformation based on text present in the reviews to sequence of integers\n",
    "    X_seq_train = tokenizer.texts_to_sequences(X_train)\n",
    "    X_seq_test =  tokenizer.texts_to_sequences(X_test)\n",
    "    #create padded sequences\n",
    "    # experimented with the max length and embedding size to get better performance metrics \n",
    "    maxlen= 512\n",
    "    embed_size = 100\n",
    "    # perform padding to the same length:\n",
    "    # Taking default value of pre in padding, for padding \n",
    "    # Truncating: removal of values larger than maxlen, used post. \n",
    "    pad_train=pad_sequences(X_seq_train,truncating = 'post', padding = 'pre',maxlen=512)\n",
    "    pad_test=pad_sequences(X_seq_test,truncating = 'post', padding = 'pre',maxlen=512)\n",
    "    embedding_matrix = create_embedding_matrix(tokenizer.word_index, V)\n",
    "    return pad_train, pad_test, y_train,y_test, V, embedding_matrix\n",
    "\n",
    "\n",
    "def create_embedding_matrix( word_index, vocab_length): \n",
    "    embedding_dim = 100 # GloVe contains 100-dimensional embedding vectors for 400.000 words\n",
    "    word_index = word_index\n",
    "    embedding_matrix = np.zeros((vocab_length+1, embedding_dim)) # embedding_matrix.shape (10000, 100)\n",
    "    embeddings_index = load_glove_embedding('glove.6B.100d.txt')\n",
    "    #get corresponding word embeddings/weights for imdb review corpus amd create embedding_matrix\n",
    "    for word, i in word_index.items():\n",
    "        if i < vocab_length:\n",
    "            embedding_vector = embeddings_index.get(word) # embedding_vector.shape (100,)\n",
    "            if embedding_vector is not None:\n",
    "                embedding_matrix[i] = embedding_vector\n",
    "    return embedding_matrix"
   ]
  },
  {
   "cell_type": "markdown",
   "metadata": {},
   "source": [
    "# Disagreement With Ratings:"
   ]
  },
  {
   "cell_type": "code",
   "execution_count": 6,
   "metadata": {},
   "outputs": [
    {
     "name": "stdout",
     "output_type": "stream",
     "text": [
      "Found 400000 word vectors.\n"
     ]
    }
   ],
   "source": [
    "# read the file: \n",
    "disagreement_with_ratings_df = pd.read_csv('/Users/kartikvijay/Documents/MADS/Thesis pt.2/xgboost_LSTMs/general_training_data/disagreement_with_ratings_general.csv')\n",
    "# train test split for disagreement with ratings df: \n",
    "train, test_df = get_train_test_split(disagreement_with_ratings_df,stratify_col=disagreement_with_ratings_df['disagreement_with_ratings_ohe'])\n",
    "\n",
    "\n",
    "pad_train, pad_test, y_train,y_test, V, embedding_matrix= create_lstm_train_data(train,\n",
    "                                                                                  test_df, \n",
    "                                                                                 'full_review',\n",
    "                                                                                 'disagreement_with_ratings_ohe'\n",
    "                                                                                 )"
   ]
  },
  {
   "cell_type": "code",
   "execution_count": 10,
   "metadata": {},
   "outputs": [
    {
     "name": "stdout",
     "output_type": "stream",
     "text": [
      "Model: \"model\"\n",
      "_________________________________________________________________\n",
      " Layer (type)                Output Shape              Param #   \n",
      "=================================================================\n",
      " input_1 (InputLayer)        [(None, 512)]             0         \n",
      "                                                                 \n",
      " embedding (Embedding)       (None, 512, 100)          3496300   \n",
      "                                                                 \n",
      " dropout (Dropout)           (None, 512, 100)          0         \n",
      "                                                                 \n",
      " lstm (LSTM)                 (None, 350)               631400    \n",
      "                                                                 \n",
      " dense (Dense)               (None, 256)               89856     \n",
      "                                                                 \n",
      " dropout_1 (Dropout)         (None, 256)               0         \n",
      "                                                                 \n",
      " dense_1 (Dense)             (None, 1)                 257       \n",
      "                                                                 \n",
      "=================================================================\n",
      "Total params: 4,217,813\n",
      "Trainable params: 721,513\n",
      "Non-trainable params: 3,496,300\n",
      "_________________________________________________________________\n"
     ]
    },
    {
     "name": "stderr",
     "output_type": "stream",
     "text": [
      "2023-05-11 11:46:05.399852: I tensorflow/core/common_runtime/executor.cc:1197] [/device:CPU:0] (DEBUG INFO) Executor start aborting (this does not indicate an error and you can ignore this message): INVALID_ARGUMENT: You must feed a value for placeholder tensor 'gradients/split_2_grad/concat/split_2/split_dim' with dtype int32\n",
      "\t [[{{node gradients/split_2_grad/concat/split_2/split_dim}}]]\n",
      "2023-05-11 11:46:05.401425: I tensorflow/core/common_runtime/executor.cc:1197] [/device:CPU:0] (DEBUG INFO) Executor start aborting (this does not indicate an error and you can ignore this message): INVALID_ARGUMENT: You must feed a value for placeholder tensor 'gradients/split_grad/concat/split/split_dim' with dtype int32\n",
      "\t [[{{node gradients/split_grad/concat/split/split_dim}}]]\n",
      "2023-05-11 11:46:05.402390: I tensorflow/core/common_runtime/executor.cc:1197] [/device:CPU:0] (DEBUG INFO) Executor start aborting (this does not indicate an error and you can ignore this message): INVALID_ARGUMENT: You must feed a value for placeholder tensor 'gradients/split_1_grad/concat/split_1/split_dim' with dtype int32\n",
      "\t [[{{node gradients/split_1_grad/concat/split_1/split_dim}}]]\n"
     ]
    }
   ],
   "source": [
    "be.clear_session()\n",
    "with tf.device('/GPU:0'):\n",
    "     # takes input with shape as specified,   \n",
    "    input_ = Input(shape=(512,))\n",
    "    # creation of the embedding layer and setting pre-trained word weights and trainable\n",
    "    # parameter as false\n",
    "    embeds = Embedding(V+1, 100,input_length = 512, weights=[embedding_matrix], trainable = False)(input_)\n",
    "    # adding dropout for regularization\n",
    "    drop = tf.keras.layers.Dropout(0.3)(embeds)\n",
    "    # Creation of lstm layer with 350 as dimension of the output space.\n",
    "    lstm_1 = LSTM(256)(drop)\n",
    "    # add fully connected dense layer to combine and weight the features that are extracted from LSTM. Addition\n",
    "    # of the dense layer allows for better regularization as well by the addition of parameters. \n",
    "    # Treating the output from lstm as a regression problem\n",
    "    weight_dense = Dense(units=256, activation='relu')(lstm_1)\n",
    "    # added dropout for further regularization\n",
    "    drop_2 = Dropout(0.1)(weight_dense)\n",
    "    # output layer with sigmoid activation for binary classification\n",
    "    output_layer = Dense(1, activation='sigmoid')(drop_2)\n",
    "    # Finally, create a model instance!\n",
    "    model = Model(inputs = input_, outputs = output_layer)\n",
    "    model.summary()"
   ]
  },
  {
   "cell_type": "code",
   "execution_count": 11,
   "metadata": {},
   "outputs": [
    {
     "name": "stdout",
     "output_type": "stream",
     "text": [
      "Epoch 1/100\n"
     ]
    },
    {
     "name": "stderr",
     "output_type": "stream",
     "text": [
      "2023-05-11 11:46:05.839815: I tensorflow/core/common_runtime/executor.cc:1197] [/device:CPU:0] (DEBUG INFO) Executor start aborting (this does not indicate an error and you can ignore this message): INVALID_ARGUMENT: You must feed a value for placeholder tensor 'gradients/split_2_grad/concat/split_2/split_dim' with dtype int32\n",
      "\t [[{{node gradients/split_2_grad/concat/split_2/split_dim}}]]\n",
      "2023-05-11 11:46:05.841594: I tensorflow/core/common_runtime/executor.cc:1197] [/device:CPU:0] (DEBUG INFO) Executor start aborting (this does not indicate an error and you can ignore this message): INVALID_ARGUMENT: You must feed a value for placeholder tensor 'gradients/split_grad/concat/split/split_dim' with dtype int32\n",
      "\t [[{{node gradients/split_grad/concat/split/split_dim}}]]\n",
      "2023-05-11 11:46:05.842891: I tensorflow/core/common_runtime/executor.cc:1197] [/device:CPU:0] (DEBUG INFO) Executor start aborting (this does not indicate an error and you can ignore this message): INVALID_ARGUMENT: You must feed a value for placeholder tensor 'gradients/split_1_grad/concat/split_1/split_dim' with dtype int32\n",
      "\t [[{{node gradients/split_1_grad/concat/split_1/split_dim}}]]\n",
      "2023-05-11 11:46:06.399964: I tensorflow/core/common_runtime/executor.cc:1197] [/device:CPU:0] (DEBUG INFO) Executor start aborting (this does not indicate an error and you can ignore this message): INVALID_ARGUMENT: You must feed a value for placeholder tensor 'gradients/split_2_grad/concat/split_2/split_dim' with dtype int32\n",
      "\t [[{{node gradients/split_2_grad/concat/split_2/split_dim}}]]\n",
      "2023-05-11 11:46:06.401532: I tensorflow/core/common_runtime/executor.cc:1197] [/device:CPU:0] (DEBUG INFO) Executor start aborting (this does not indicate an error and you can ignore this message): INVALID_ARGUMENT: You must feed a value for placeholder tensor 'gradients/split_grad/concat/split/split_dim' with dtype int32\n",
      "\t [[{{node gradients/split_grad/concat/split/split_dim}}]]\n",
      "2023-05-11 11:46:06.402604: I tensorflow/core/common_runtime/executor.cc:1197] [/device:CPU:0] (DEBUG INFO) Executor start aborting (this does not indicate an error and you can ignore this message): INVALID_ARGUMENT: You must feed a value for placeholder tensor 'gradients/split_1_grad/concat/split_1/split_dim' with dtype int32\n",
      "\t [[{{node gradients/split_1_grad/concat/split_1/split_dim}}]]\n",
      "2023-05-11 11:46:06.795556: I tensorflow/core/grappler/optimizers/custom_graph_optimizer_registry.cc:114] Plugin optimizer for device_type GPU is enabled.\n",
      "2023-05-11 11:46:07.242050: I tensorflow/core/grappler/optimizers/custom_graph_optimizer_registry.cc:114] Plugin optimizer for device_type GPU is enabled.\n",
      "2023-05-11 11:46:07.929849: I tensorflow/core/grappler/optimizers/custom_graph_optimizer_registry.cc:114] Plugin optimizer for device_type GPU is enabled.\n"
     ]
    },
    {
     "name": "stdout",
     "output_type": "stream",
     "text": [
      "111/111 [==============================] - ETA: 0s - loss: 0.2071 - accuracy: 0.9440"
     ]
    },
    {
     "name": "stderr",
     "output_type": "stream",
     "text": [
      "2023-05-11 11:46:44.453111: I tensorflow/core/common_runtime/executor.cc:1197] [/device:CPU:0] (DEBUG INFO) Executor start aborting (this does not indicate an error and you can ignore this message): INVALID_ARGUMENT: You must feed a value for placeholder tensor 'gradients/split_2_grad/concat/split_2/split_dim' with dtype int32\n",
      "\t [[{{node gradients/split_2_grad/concat/split_2/split_dim}}]]\n",
      "2023-05-11 11:46:44.454563: I tensorflow/core/common_runtime/executor.cc:1197] [/device:CPU:0] (DEBUG INFO) Executor start aborting (this does not indicate an error and you can ignore this message): INVALID_ARGUMENT: You must feed a value for placeholder tensor 'gradients/split_grad/concat/split/split_dim' with dtype int32\n",
      "\t [[{{node gradients/split_grad/concat/split/split_dim}}]]\n",
      "2023-05-11 11:46:44.455530: I tensorflow/core/common_runtime/executor.cc:1197] [/device:CPU:0] (DEBUG INFO) Executor start aborting (this does not indicate an error and you can ignore this message): INVALID_ARGUMENT: You must feed a value for placeholder tensor 'gradients/split_1_grad/concat/split_1/split_dim' with dtype int32\n",
      "\t [[{{node gradients/split_1_grad/concat/split_1/split_dim}}]]\n",
      "2023-05-11 11:46:44.521371: I tensorflow/core/grappler/optimizers/custom_graph_optimizer_registry.cc:114] Plugin optimizer for device_type GPU is enabled.\n",
      "2023-05-11 11:46:44.653001: I tensorflow/core/grappler/optimizers/custom_graph_optimizer_registry.cc:114] Plugin optimizer for device_type GPU is enabled.\n"
     ]
    },
    {
     "name": "stdout",
     "output_type": "stream",
     "text": [
      "111/111 [==============================] - 40s 341ms/step - loss: 0.2071 - accuracy: 0.9440 - val_loss: 0.1867 - val_accuracy: 0.9555\n",
      "Epoch 2/100\n",
      "111/111 [==============================] - 37s 337ms/step - loss: 0.1940 - accuracy: 0.9519 - val_loss: 0.1845 - val_accuracy: 0.9555\n",
      "Epoch 3/100\n",
      "111/111 [==============================] - 36s 329ms/step - loss: 0.1919 - accuracy: 0.9519 - val_loss: 0.1889 - val_accuracy: 0.9555\n",
      "Epoch 4/100\n",
      "111/111 [==============================] - 39s 347ms/step - loss: 0.1895 - accuracy: 0.9518 - val_loss: 0.1844 - val_accuracy: 0.9555\n",
      "Epoch 5/100\n",
      "111/111 [==============================] - 39s 351ms/step - loss: 0.1903 - accuracy: 0.9519 - val_loss: 0.1846 - val_accuracy: 0.9555\n",
      "Epoch 6/100\n",
      "111/111 [==============================] - 40s 358ms/step - loss: 0.1882 - accuracy: 0.9519 - val_loss: 0.1880 - val_accuracy: 0.9555\n",
      "Epoch 7/100\n",
      "111/111 [==============================] - 38s 346ms/step - loss: 0.1809 - accuracy: 0.9519 - val_loss: 0.1783 - val_accuracy: 0.9555\n",
      "Epoch 8/100\n",
      "111/111 [==============================] - 38s 341ms/step - loss: 0.1822 - accuracy: 0.9498 - val_loss: 0.2168 - val_accuracy: 0.9555\n",
      "Epoch 9/100\n",
      "111/111 [==============================] - 39s 352ms/step - loss: 0.2202 - accuracy: 0.9512 - val_loss: 0.1935 - val_accuracy: 0.9555\n",
      "Epoch 10/100\n",
      "111/111 [==============================] - 42s 377ms/step - loss: 0.2031 - accuracy: 0.9519 - val_loss: 0.1827 - val_accuracy: 0.9555\n",
      "Epoch 11/100\n",
      "111/111 [==============================] - 37s 330ms/step - loss: 0.1963 - accuracy: 0.9519 - val_loss: 0.1838 - val_accuracy: 0.9555\n"
     ]
    }
   ],
   "source": [
    "# monitoring validation loss for early stopping to avoid overfitting with patience of 4\n",
    "early_stop = tf.keras.callbacks.EarlyStopping(monitor='val_loss', \n",
    "                                mode='min', \n",
    "                               patience = 4 )\n",
    "# utilization of adam optimization\n",
    "model.compile(loss='binary_crossentropy',\n",
    "              optimizer='adam',\n",
    "              metrics=['accuracy'])\n",
    "# use gpu and fit model, considered a validation_split of 10% from the training dataset\n",
    "with tf.device('/GPU:0'):\n",
    "\n",
    "    lstm_model_glove = model.fit(pad_train,y_train, \n",
    "                    validation_split= 0.1,  \n",
    "                  epochs = 100, \n",
    "                  batch_size = 64, \n",
    "                  callbacks =[early_stop])"
   ]
  },
  {
   "cell_type": "code",
   "execution_count": 12,
   "metadata": {},
   "outputs": [
    {
     "name": "stderr",
     "output_type": "stream",
     "text": [
      "2023-05-11 11:53:11.020024: I tensorflow/core/common_runtime/executor.cc:1197] [/device:CPU:0] (DEBUG INFO) Executor start aborting (this does not indicate an error and you can ignore this message): INVALID_ARGUMENT: You must feed a value for placeholder tensor 'gradients/split_2_grad/concat/split_2/split_dim' with dtype int32\n",
      "\t [[{{node gradients/split_2_grad/concat/split_2/split_dim}}]]\n",
      "2023-05-11 11:53:11.021718: I tensorflow/core/common_runtime/executor.cc:1197] [/device:CPU:0] (DEBUG INFO) Executor start aborting (this does not indicate an error and you can ignore this message): INVALID_ARGUMENT: You must feed a value for placeholder tensor 'gradients/split_grad/concat/split/split_dim' with dtype int32\n",
      "\t [[{{node gradients/split_grad/concat/split/split_dim}}]]\n",
      "2023-05-11 11:53:11.023010: I tensorflow/core/common_runtime/executor.cc:1197] [/device:CPU:0] (DEBUG INFO) Executor start aborting (this does not indicate an error and you can ignore this message): INVALID_ARGUMENT: You must feed a value for placeholder tensor 'gradients/split_1_grad/concat/split_1/split_dim' with dtype int32\n",
      "\t [[{{node gradients/split_1_grad/concat/split_1/split_dim}}]]\n",
      "2023-05-11 11:53:11.066247: I tensorflow/core/grappler/optimizers/custom_graph_optimizer_registry.cc:114] Plugin optimizer for device_type GPU is enabled.\n",
      "2023-05-11 11:53:11.183515: I tensorflow/core/grappler/optimizers/custom_graph_optimizer_registry.cc:114] Plugin optimizer for device_type GPU is enabled.\n"
     ]
    },
    {
     "name": "stdout",
     "output_type": "stream",
     "text": [
      "106/106 [==============================] - 7s 59ms/step\n",
      "              precision    recall  f1-score   support\n",
      "\n",
      "         0.0       1.00      0.95      0.98      3369\n",
      "         1.0       0.00      0.00      0.00         0\n",
      "\n",
      "    accuracy                           0.95      3369\n",
      "   macro avg       0.50      0.48      0.49      3369\n",
      "weighted avg       1.00      0.95      0.98      3369\n",
      "\n"
     ]
    },
    {
     "name": "stderr",
     "output_type": "stream",
     "text": [
      "/Users/kartikvijay/anaconda3/envs/kvj_ml/lib/python3.10/site-packages/sklearn/metrics/_classification.py:1344: UndefinedMetricWarning: Recall and F-score are ill-defined and being set to 0.0 in labels with no true samples. Use `zero_division` parameter to control this behavior.\n",
      "  _warn_prf(average, modifier, msg_start, len(result))\n",
      "/Users/kartikvijay/anaconda3/envs/kvj_ml/lib/python3.10/site-packages/sklearn/metrics/_classification.py:1344: UndefinedMetricWarning: Recall and F-score are ill-defined and being set to 0.0 in labels with no true samples. Use `zero_division` parameter to control this behavior.\n",
      "  _warn_prf(average, modifier, msg_start, len(result))\n",
      "/Users/kartikvijay/anaconda3/envs/kvj_ml/lib/python3.10/site-packages/sklearn/metrics/_classification.py:1344: UndefinedMetricWarning: Recall and F-score are ill-defined and being set to 0.0 in labels with no true samples. Use `zero_division` parameter to control this behavior.\n",
      "  _warn_prf(average, modifier, msg_start, len(result))\n"
     ]
    }
   ],
   "source": [
    "# make predictions on the test data: \n",
    "y_pred = model.predict(pad_test)\n",
    "y_pred = np.round(y_pred)\n",
    "print(classification_report(y_pred, y_test))"
   ]
  },
  {
   "cell_type": "markdown",
   "metadata": {},
   "source": [
    "# Rating Management Explicit"
   ]
  },
  {
   "cell_type": "code",
   "execution_count": 19,
   "metadata": {},
   "outputs": [
    {
     "name": "stdout",
     "output_type": "stream",
     "text": [
      "Found 400000 word vectors.\n"
     ]
    }
   ],
   "source": [
    "# read the file: \n",
    "rating_management_explicit_df = pd.read_csv('/Users/kartikvijay/Documents/MADS/Thesis pt.2/xgboost_LSTMs/general_training_data/rating_managment_explicit_general.csv')\n",
    "# train test split for disagreement with ratings df: \n",
    "train, test_df = get_train_test_split(rating_management_explicit_df,stratify_col=rating_management_explicit_df['rating_managment_explicit_ohe'])\n",
    "\n",
    "\n",
    "pad_train, pad_test, y_train,y_test, V, embedding_matrix= create_lstm_train_data(train,\n",
    "                                                                                  test_df, \n",
    "                                                                                 'full_review',\n",
    "                                                                                 'rating_managment_explicit_ohe'\n",
    "                                                                                 )\n"
   ]
  },
  {
   "cell_type": "code",
   "execution_count": 20,
   "metadata": {},
   "outputs": [
    {
     "name": "stdout",
     "output_type": "stream",
     "text": [
      "Model: \"model\"\n",
      "_________________________________________________________________\n",
      " Layer (type)                Output Shape              Param #   \n",
      "=================================================================\n",
      " input_1 (InputLayer)        [(None, 512)]             0         \n",
      "                                                                 \n",
      " embedding (Embedding)       (None, 512, 100)          3466900   \n",
      "                                                                 \n",
      " dropout (Dropout)           (None, 512, 100)          0         \n",
      "                                                                 \n",
      " lstm (LSTM)                 (None, 350)               631400    \n",
      "                                                                 \n",
      " dense (Dense)               (None, 256)               89856     \n",
      "                                                                 \n",
      " dropout_1 (Dropout)         (None, 256)               0         \n",
      "                                                                 \n",
      " dense_1 (Dense)             (None, 1)                 257       \n",
      "                                                                 \n",
      "=================================================================\n",
      "Total params: 4,188,413\n",
      "Trainable params: 721,513\n",
      "Non-trainable params: 3,466,900\n",
      "_________________________________________________________________\n"
     ]
    },
    {
     "name": "stderr",
     "output_type": "stream",
     "text": [
      "2023-05-11 11:56:54.465835: I tensorflow/core/common_runtime/executor.cc:1197] [/device:CPU:0] (DEBUG INFO) Executor start aborting (this does not indicate an error and you can ignore this message): INVALID_ARGUMENT: You must feed a value for placeholder tensor 'gradients/split_2_grad/concat/split_2/split_dim' with dtype int32\n",
      "\t [[{{node gradients/split_2_grad/concat/split_2/split_dim}}]]\n",
      "2023-05-11 11:56:54.467369: I tensorflow/core/common_runtime/executor.cc:1197] [/device:CPU:0] (DEBUG INFO) Executor start aborting (this does not indicate an error and you can ignore this message): INVALID_ARGUMENT: You must feed a value for placeholder tensor 'gradients/split_grad/concat/split/split_dim' with dtype int32\n",
      "\t [[{{node gradients/split_grad/concat/split/split_dim}}]]\n",
      "2023-05-11 11:56:54.468417: I tensorflow/core/common_runtime/executor.cc:1197] [/device:CPU:0] (DEBUG INFO) Executor start aborting (this does not indicate an error and you can ignore this message): INVALID_ARGUMENT: You must feed a value for placeholder tensor 'gradients/split_1_grad/concat/split_1/split_dim' with dtype int32\n",
      "\t [[{{node gradients/split_1_grad/concat/split_1/split_dim}}]]\n"
     ]
    }
   ],
   "source": [
    "be.clear_session()\n",
    "with tf.device('/GPU:0'):\n",
    "     # takes input with shape as specified,   \n",
    "    input_ = Input(shape=(512,))\n",
    "    # creation of the embedding layer and setting pre-trained word weights and trainable\n",
    "    # parameter as false\n",
    "    embeds = Embedding(V+1, 100,input_length = 512, weights=[embedding_matrix], trainable = False)(input_)\n",
    "    # adding dropout for regularization\n",
    "    drop = tf.keras.layers.Dropout(0.02)(embeds)\n",
    "    # Creation of lstm layer with 350 as dimension of the output space.\n",
    "    lstm_1 = LSTM(512)(drop)\n",
    "    # add fully connected dense layer to combine and weight the features that are extracted from LSTM. Addition\n",
    "    # of the dense layer allows for better regularization as well by the addition of parameters. \n",
    "    # Treating the output from lstm as a regression problem\n",
    "    weight_dense = Dense(units=256, activation='relu')(lstm_1)\n",
    "    # added dropout for further regularization\n",
    "    drop_2 = Dropout(0.2)(weight_dense)\n",
    "    # output layer with sigmoid activation for binary classification\n",
    "    output_layer = Dense(1, activation='sigmoid')(drop_2)\n",
    "    # Finally, create a model instance!\n",
    "    model = Model(inputs = input_, outputs = output_layer)\n",
    "    model.summary()"
   ]
  },
  {
   "cell_type": "code",
   "execution_count": 21,
   "metadata": {},
   "outputs": [
    {
     "name": "stdout",
     "output_type": "stream",
     "text": [
      "Epoch 1/100\n"
     ]
    },
    {
     "name": "stderr",
     "output_type": "stream",
     "text": [
      "2023-05-11 11:57:02.785181: I tensorflow/core/common_runtime/executor.cc:1197] [/device:CPU:0] (DEBUG INFO) Executor start aborting (this does not indicate an error and you can ignore this message): INVALID_ARGUMENT: You must feed a value for placeholder tensor 'gradients/split_2_grad/concat/split_2/split_dim' with dtype int32\n",
      "\t [[{{node gradients/split_2_grad/concat/split_2/split_dim}}]]\n",
      "2023-05-11 11:57:02.786967: I tensorflow/core/common_runtime/executor.cc:1197] [/device:CPU:0] (DEBUG INFO) Executor start aborting (this does not indicate an error and you can ignore this message): INVALID_ARGUMENT: You must feed a value for placeholder tensor 'gradients/split_grad/concat/split/split_dim' with dtype int32\n",
      "\t [[{{node gradients/split_grad/concat/split/split_dim}}]]\n",
      "2023-05-11 11:57:02.788077: I tensorflow/core/common_runtime/executor.cc:1197] [/device:CPU:0] (DEBUG INFO) Executor start aborting (this does not indicate an error and you can ignore this message): INVALID_ARGUMENT: You must feed a value for placeholder tensor 'gradients/split_1_grad/concat/split_1/split_dim' with dtype int32\n",
      "\t [[{{node gradients/split_1_grad/concat/split_1/split_dim}}]]\n",
      "2023-05-11 11:57:03.388635: I tensorflow/core/common_runtime/executor.cc:1197] [/device:CPU:0] (DEBUG INFO) Executor start aborting (this does not indicate an error and you can ignore this message): INVALID_ARGUMENT: You must feed a value for placeholder tensor 'gradients/split_2_grad/concat/split_2/split_dim' with dtype int32\n",
      "\t [[{{node gradients/split_2_grad/concat/split_2/split_dim}}]]\n",
      "2023-05-11 11:57:03.390166: I tensorflow/core/common_runtime/executor.cc:1197] [/device:CPU:0] (DEBUG INFO) Executor start aborting (this does not indicate an error and you can ignore this message): INVALID_ARGUMENT: You must feed a value for placeholder tensor 'gradients/split_grad/concat/split/split_dim' with dtype int32\n",
      "\t [[{{node gradients/split_grad/concat/split/split_dim}}]]\n",
      "2023-05-11 11:57:03.391522: I tensorflow/core/common_runtime/executor.cc:1197] [/device:CPU:0] (DEBUG INFO) Executor start aborting (this does not indicate an error and you can ignore this message): INVALID_ARGUMENT: You must feed a value for placeholder tensor 'gradients/split_1_grad/concat/split_1/split_dim' with dtype int32\n",
      "\t [[{{node gradients/split_1_grad/concat/split_1/split_dim}}]]\n",
      "2023-05-11 11:57:04.013445: I tensorflow/core/grappler/optimizers/custom_graph_optimizer_registry.cc:114] Plugin optimizer for device_type GPU is enabled.\n",
      "2023-05-11 11:57:04.516032: I tensorflow/core/grappler/optimizers/custom_graph_optimizer_registry.cc:114] Plugin optimizer for device_type GPU is enabled.\n",
      "2023-05-11 11:57:05.034062: I tensorflow/core/grappler/optimizers/custom_graph_optimizer_registry.cc:114] Plugin optimizer for device_type GPU is enabled.\n"
     ]
    },
    {
     "name": "stdout",
     "output_type": "stream",
     "text": [
      "111/111 [==============================] - ETA: 0s - loss: 0.0934 - accuracy: 0.9802"
     ]
    },
    {
     "name": "stderr",
     "output_type": "stream",
     "text": [
      "2023-05-11 11:57:40.552923: I tensorflow/core/common_runtime/executor.cc:1197] [/device:CPU:0] (DEBUG INFO) Executor start aborting (this does not indicate an error and you can ignore this message): INVALID_ARGUMENT: You must feed a value for placeholder tensor 'gradients/split_2_grad/concat/split_2/split_dim' with dtype int32\n",
      "\t [[{{node gradients/split_2_grad/concat/split_2/split_dim}}]]\n",
      "2023-05-11 11:57:40.554399: I tensorflow/core/common_runtime/executor.cc:1197] [/device:CPU:0] (DEBUG INFO) Executor start aborting (this does not indicate an error and you can ignore this message): INVALID_ARGUMENT: You must feed a value for placeholder tensor 'gradients/split_grad/concat/split/split_dim' with dtype int32\n",
      "\t [[{{node gradients/split_grad/concat/split/split_dim}}]]\n",
      "2023-05-11 11:57:40.555429: I tensorflow/core/common_runtime/executor.cc:1197] [/device:CPU:0] (DEBUG INFO) Executor start aborting (this does not indicate an error and you can ignore this message): INVALID_ARGUMENT: You must feed a value for placeholder tensor 'gradients/split_1_grad/concat/split_1/split_dim' with dtype int32\n",
      "\t [[{{node gradients/split_1_grad/concat/split_1/split_dim}}]]\n",
      "2023-05-11 11:57:40.622758: I tensorflow/core/grappler/optimizers/custom_graph_optimizer_registry.cc:114] Plugin optimizer for device_type GPU is enabled.\n",
      "2023-05-11 11:57:40.753819: I tensorflow/core/grappler/optimizers/custom_graph_optimizer_registry.cc:114] Plugin optimizer for device_type GPU is enabled.\n"
     ]
    },
    {
     "name": "stdout",
     "output_type": "stream",
     "text": [
      "111/111 [==============================] - 39s 333ms/step - loss: 0.0934 - accuracy: 0.9802 - val_loss: 0.0851 - val_accuracy: 0.9835\n",
      "Epoch 2/100\n",
      "111/111 [==============================] - 36s 319ms/step - loss: 0.0809 - accuracy: 0.9847 - val_loss: 0.0848 - val_accuracy: 0.9835\n",
      "Epoch 3/100\n",
      "111/111 [==============================] - 37s 329ms/step - loss: 0.0774 - accuracy: 0.9847 - val_loss: 0.0878 - val_accuracy: 0.9835\n",
      "Epoch 4/100\n",
      "111/111 [==============================] - 36s 326ms/step - loss: 0.0795 - accuracy: 0.9847 - val_loss: 0.0795 - val_accuracy: 0.9835\n",
      "Epoch 5/100\n",
      "111/111 [==============================] - 36s 323ms/step - loss: 0.0746 - accuracy: 0.9847 - val_loss: 0.0779 - val_accuracy: 0.9835\n",
      "Epoch 6/100\n",
      "111/111 [==============================] - 36s 327ms/step - loss: 0.0693 - accuracy: 0.9847 - val_loss: 0.0859 - val_accuracy: 0.9835\n",
      "Epoch 7/100\n",
      "111/111 [==============================] - 38s 341ms/step - loss: 0.0728 - accuracy: 0.9847 - val_loss: 0.0673 - val_accuracy: 0.9835\n",
      "Epoch 8/100\n",
      "111/111 [==============================] - 41s 369ms/step - loss: 0.0623 - accuracy: 0.9847 - val_loss: 0.0660 - val_accuracy: 0.9848\n",
      "Epoch 9/100\n",
      "111/111 [==============================] - 42s 377ms/step - loss: 0.0575 - accuracy: 0.9845 - val_loss: 0.0582 - val_accuracy: 0.9848\n",
      "Epoch 10/100\n",
      "111/111 [==============================] - 43s 385ms/step - loss: 0.0550 - accuracy: 0.9852 - val_loss: 0.0585 - val_accuracy: 0.9848\n",
      "Epoch 11/100\n",
      "111/111 [==============================] - 40s 363ms/step - loss: 0.0501 - accuracy: 0.9854 - val_loss: 0.0622 - val_accuracy: 0.9848\n",
      "Epoch 12/100\n",
      "111/111 [==============================] - 40s 358ms/step - loss: 0.0464 - accuracy: 0.9866 - val_loss: 0.0590 - val_accuracy: 0.9848\n",
      "Epoch 13/100\n",
      "111/111 [==============================] - 39s 351ms/step - loss: 0.0413 - accuracy: 0.9876 - val_loss: 0.0465 - val_accuracy: 0.9848\n",
      "Epoch 14/100\n",
      "111/111 [==============================] - 41s 366ms/step - loss: 0.0342 - accuracy: 0.9894 - val_loss: 0.0585 - val_accuracy: 0.9822\n",
      "Epoch 15/100\n",
      "111/111 [==============================] - 41s 365ms/step - loss: 0.0272 - accuracy: 0.9895 - val_loss: 0.0558 - val_accuracy: 0.9848\n",
      "Epoch 16/100\n",
      "111/111 [==============================] - 38s 343ms/step - loss: 0.0241 - accuracy: 0.9915 - val_loss: 0.0512 - val_accuracy: 0.9835\n",
      "Epoch 17/100\n",
      "111/111 [==============================] - 37s 335ms/step - loss: 0.0223 - accuracy: 0.9935 - val_loss: 0.0666 - val_accuracy: 0.9835\n"
     ]
    }
   ],
   "source": [
    "# monitoring validation loss for early stopping to avoid overfitting with patience of 4\n",
    "early_stop = tf.keras.callbacks.EarlyStopping(monitor='val_loss', \n",
    "                                mode='min', \n",
    "                               patience = 4 )\n",
    "# utilization of adam optimization\n",
    "model.compile(loss='binary_crossentropy',\n",
    "              optimizer='adam',\n",
    "              metrics=['accuracy'])\n",
    "# use gpu and fit model, considered a validation_split of 10% from the training dataset\n",
    "with tf.device('/GPU:0'):\n",
    "\n",
    "    lstm_model_glove = model.fit(pad_train,y_train, \n",
    "                    validation_split= 0.1,  \n",
    "                  epochs = 100, \n",
    "                  batch_size = 64, \n",
    "                  callbacks =[early_stop])"
   ]
  },
  {
   "cell_type": "code",
   "execution_count": 22,
   "metadata": {},
   "outputs": [
    {
     "name": "stderr",
     "output_type": "stream",
     "text": [
      "2023-05-11 12:08:01.902706: I tensorflow/core/common_runtime/executor.cc:1197] [/device:CPU:0] (DEBUG INFO) Executor start aborting (this does not indicate an error and you can ignore this message): INVALID_ARGUMENT: You must feed a value for placeholder tensor 'gradients/split_2_grad/concat/split_2/split_dim' with dtype int32\n",
      "\t [[{{node gradients/split_2_grad/concat/split_2/split_dim}}]]\n",
      "2023-05-11 12:08:01.904466: I tensorflow/core/common_runtime/executor.cc:1197] [/device:CPU:0] (DEBUG INFO) Executor start aborting (this does not indicate an error and you can ignore this message): INVALID_ARGUMENT: You must feed a value for placeholder tensor 'gradients/split_grad/concat/split/split_dim' with dtype int32\n",
      "\t [[{{node gradients/split_grad/concat/split/split_dim}}]]\n",
      "2023-05-11 12:08:01.905681: I tensorflow/core/common_runtime/executor.cc:1197] [/device:CPU:0] (DEBUG INFO) Executor start aborting (this does not indicate an error and you can ignore this message): INVALID_ARGUMENT: You must feed a value for placeholder tensor 'gradients/split_1_grad/concat/split_1/split_dim' with dtype int32\n",
      "\t [[{{node gradients/split_1_grad/concat/split_1/split_dim}}]]\n",
      "2023-05-11 12:08:01.950041: I tensorflow/core/grappler/optimizers/custom_graph_optimizer_registry.cc:114] Plugin optimizer for device_type GPU is enabled.\n",
      "2023-05-11 12:08:02.061814: I tensorflow/core/grappler/optimizers/custom_graph_optimizer_registry.cc:114] Plugin optimizer for device_type GPU is enabled.\n"
     ]
    },
    {
     "name": "stdout",
     "output_type": "stream",
     "text": [
      "106/106 [==============================] - 7s 57ms/step\n",
      "              precision    recall  f1-score   support\n",
      "\n",
      "         0.0       1.00      0.99      0.99      3360\n",
      "         1.0       0.13      0.78      0.23         9\n",
      "\n",
      "    accuracy                           0.99      3369\n",
      "   macro avg       0.57      0.88      0.61      3369\n",
      "weighted avg       1.00      0.99      0.99      3369\n",
      "\n"
     ]
    }
   ],
   "source": [
    "# make predictions on the test data: \n",
    "y_pred = model.predict(pad_test)\n",
    "y_pred = np.round(y_pred)\n",
    "print(classification_report(y_pred, y_test))"
   ]
  },
  {
   "cell_type": "markdown",
   "metadata": {},
   "source": [
    "# Wish I read Reviews:\n"
   ]
  },
  {
   "cell_type": "code",
   "execution_count": 23,
   "metadata": {},
   "outputs": [
    {
     "name": "stdout",
     "output_type": "stream",
     "text": [
      "Found 400000 word vectors.\n"
     ]
    }
   ],
   "source": [
    "read_reviews_df = pd.read_csv('/Users/kartikvijay/Documents/MADS/Thesis pt.2/xgboost_LSTMs/general_training_data/read_reviews_general.csv')\n",
    "\n",
    "# train test split for disagreement with ratings df: \n",
    "train, test_df = get_train_test_split(read_reviews_df,stratify_col=read_reviews_df['wish_I_read_reviews _ohe'])\n",
    "\n",
    "\n",
    "pad_train, pad_test, y_train,y_test, V, embedding_matrix= create_lstm_train_data(train,\n",
    "                                                                                test_df, \n",
    "                                                                                'full_review',\n",
    "                                                                                'wish_I_read_reviews _ohe'\n",
    "                                                                                 )\n"
   ]
  },
  {
   "cell_type": "code",
   "execution_count": 24,
   "metadata": {},
   "outputs": [
    {
     "name": "stdout",
     "output_type": "stream",
     "text": [
      "Model: \"model\"\n",
      "_________________________________________________________________\n",
      " Layer (type)                Output Shape              Param #   \n",
      "=================================================================\n",
      " input_1 (InputLayer)        [(None, 512)]             0         \n",
      "                                                                 \n",
      " embedding (Embedding)       (None, 512, 100)          3354600   \n",
      "                                                                 \n",
      " dropout (Dropout)           (None, 512, 100)          0         \n",
      "                                                                 \n",
      " lstm (LSTM)                 (None, 350)               631400    \n",
      "                                                                 \n",
      " dense (Dense)               (None, 256)               89856     \n",
      "                                                                 \n",
      " dropout_1 (Dropout)         (None, 256)               0         \n",
      "                                                                 \n",
      " dense_1 (Dense)             (None, 1)                 257       \n",
      "                                                                 \n",
      "=================================================================\n",
      "Total params: 4,076,113\n",
      "Trainable params: 721,513\n",
      "Non-trainable params: 3,354,600\n",
      "_________________________________________________________________\n"
     ]
    },
    {
     "name": "stderr",
     "output_type": "stream",
     "text": [
      "2023-05-11 12:11:00.594227: I tensorflow/core/common_runtime/executor.cc:1197] [/device:CPU:0] (DEBUG INFO) Executor start aborting (this does not indicate an error and you can ignore this message): INVALID_ARGUMENT: You must feed a value for placeholder tensor 'gradients/split_2_grad/concat/split_2/split_dim' with dtype int32\n",
      "\t [[{{node gradients/split_2_grad/concat/split_2/split_dim}}]]\n",
      "2023-05-11 12:11:00.595688: I tensorflow/core/common_runtime/executor.cc:1197] [/device:CPU:0] (DEBUG INFO) Executor start aborting (this does not indicate an error and you can ignore this message): INVALID_ARGUMENT: You must feed a value for placeholder tensor 'gradients/split_grad/concat/split/split_dim' with dtype int32\n",
      "\t [[{{node gradients/split_grad/concat/split/split_dim}}]]\n",
      "2023-05-11 12:11:00.596691: I tensorflow/core/common_runtime/executor.cc:1197] [/device:CPU:0] (DEBUG INFO) Executor start aborting (this does not indicate an error and you can ignore this message): INVALID_ARGUMENT: You must feed a value for placeholder tensor 'gradients/split_1_grad/concat/split_1/split_dim' with dtype int32\n",
      "\t [[{{node gradients/split_1_grad/concat/split_1/split_dim}}]]\n"
     ]
    }
   ],
   "source": [
    "be.clear_session()\n",
    "with tf.device('/GPU:0'):\n",
    "     # takes input with shape as specified,   \n",
    "    input_ = Input(shape=(512,))\n",
    "    # creation of the embedding layer and setting pre-trained word weights and trainable\n",
    "    # parameter as false\n",
    "    embeds = Embedding(V+1, 100,input_length = 512, weights=[embedding_matrix], trainable = False)(input_)\n",
    "    # adding dropout for regularization\n",
    "    drop = tf.keras.layers.Dropout(0.1)(embeds)\n",
    "    # Creation of lstm layer with 350 as dimension of the output space.\n",
    "    lstm_1 = LSTM(256)(drop)\n",
    "    # add fully connected dense layer to combine and weight the features that are extracted from LSTM. Addition\n",
    "    # of the dense layer allows for better regularization as well by the addition of parameters. \n",
    "    # Treating the output from lstm as a regression problem\n",
    "    weight_dense = Dense(units=256, activation='relu')(lstm_1)\n",
    "    # added dropout for further regularization\n",
    "    drop_2 = Dropout(0.1)(weight_dense)\n",
    "    # output layer with sigmoid activation for binary classification\n",
    "    output_layer = Dense(1, activation='sigmoid')(drop_2)\n",
    "    # Finally, create a model instance!\n",
    "    model = Model(inputs = input_, outputs = output_layer)\n",
    "    model.summary()"
   ]
  },
  {
   "cell_type": "code",
   "execution_count": 25,
   "metadata": {},
   "outputs": [
    {
     "name": "stdout",
     "output_type": "stream",
     "text": [
      "Epoch 1/100\n"
     ]
    },
    {
     "name": "stderr",
     "output_type": "stream",
     "text": [
      "2023-05-11 12:11:36.819914: I tensorflow/core/common_runtime/executor.cc:1197] [/device:CPU:0] (DEBUG INFO) Executor start aborting (this does not indicate an error and you can ignore this message): INVALID_ARGUMENT: You must feed a value for placeholder tensor 'gradients/split_2_grad/concat/split_2/split_dim' with dtype int32\n",
      "\t [[{{node gradients/split_2_grad/concat/split_2/split_dim}}]]\n",
      "2023-05-11 12:11:36.821715: I tensorflow/core/common_runtime/executor.cc:1197] [/device:CPU:0] (DEBUG INFO) Executor start aborting (this does not indicate an error and you can ignore this message): INVALID_ARGUMENT: You must feed a value for placeholder tensor 'gradients/split_grad/concat/split/split_dim' with dtype int32\n",
      "\t [[{{node gradients/split_grad/concat/split/split_dim}}]]\n",
      "2023-05-11 12:11:36.822860: I tensorflow/core/common_runtime/executor.cc:1197] [/device:CPU:0] (DEBUG INFO) Executor start aborting (this does not indicate an error and you can ignore this message): INVALID_ARGUMENT: You must feed a value for placeholder tensor 'gradients/split_1_grad/concat/split_1/split_dim' with dtype int32\n",
      "\t [[{{node gradients/split_1_grad/concat/split_1/split_dim}}]]\n",
      "2023-05-11 12:11:37.392066: I tensorflow/core/common_runtime/executor.cc:1197] [/device:CPU:0] (DEBUG INFO) Executor start aborting (this does not indicate an error and you can ignore this message): INVALID_ARGUMENT: You must feed a value for placeholder tensor 'gradients/split_2_grad/concat/split_2/split_dim' with dtype int32\n",
      "\t [[{{node gradients/split_2_grad/concat/split_2/split_dim}}]]\n",
      "2023-05-11 12:11:37.393738: I tensorflow/core/common_runtime/executor.cc:1197] [/device:CPU:0] (DEBUG INFO) Executor start aborting (this does not indicate an error and you can ignore this message): INVALID_ARGUMENT: You must feed a value for placeholder tensor 'gradients/split_grad/concat/split/split_dim' with dtype int32\n",
      "\t [[{{node gradients/split_grad/concat/split/split_dim}}]]\n",
      "2023-05-11 12:11:37.394933: I tensorflow/core/common_runtime/executor.cc:1197] [/device:CPU:0] (DEBUG INFO) Executor start aborting (this does not indicate an error and you can ignore this message): INVALID_ARGUMENT: You must feed a value for placeholder tensor 'gradients/split_1_grad/concat/split_1/split_dim' with dtype int32\n",
      "\t [[{{node gradients/split_1_grad/concat/split_1/split_dim}}]]\n",
      "2023-05-11 12:11:37.895581: I tensorflow/core/grappler/optimizers/custom_graph_optimizer_registry.cc:114] Plugin optimizer for device_type GPU is enabled.\n",
      "2023-05-11 12:11:38.445296: I tensorflow/core/grappler/optimizers/custom_graph_optimizer_registry.cc:114] Plugin optimizer for device_type GPU is enabled.\n",
      "2023-05-11 12:11:39.104265: I tensorflow/core/grappler/optimizers/custom_graph_optimizer_registry.cc:114] Plugin optimizer for device_type GPU is enabled.\n"
     ]
    },
    {
     "name": "stdout",
     "output_type": "stream",
     "text": [
      "98/98 [==============================] - ETA: 0s - loss: 0.2212 - accuracy: 0.9428"
     ]
    },
    {
     "name": "stderr",
     "output_type": "stream",
     "text": [
      "2023-05-11 12:12:14.433105: I tensorflow/core/common_runtime/executor.cc:1197] [/device:CPU:0] (DEBUG INFO) Executor start aborting (this does not indicate an error and you can ignore this message): INVALID_ARGUMENT: You must feed a value for placeholder tensor 'gradients/split_2_grad/concat/split_2/split_dim' with dtype int32\n",
      "\t [[{{node gradients/split_2_grad/concat/split_2/split_dim}}]]\n",
      "2023-05-11 12:12:14.434405: I tensorflow/core/common_runtime/executor.cc:1197] [/device:CPU:0] (DEBUG INFO) Executor start aborting (this does not indicate an error and you can ignore this message): INVALID_ARGUMENT: You must feed a value for placeholder tensor 'gradients/split_grad/concat/split/split_dim' with dtype int32\n",
      "\t [[{{node gradients/split_grad/concat/split/split_dim}}]]\n",
      "2023-05-11 12:12:14.435352: I tensorflow/core/common_runtime/executor.cc:1197] [/device:CPU:0] (DEBUG INFO) Executor start aborting (this does not indicate an error and you can ignore this message): INVALID_ARGUMENT: You must feed a value for placeholder tensor 'gradients/split_1_grad/concat/split_1/split_dim' with dtype int32\n",
      "\t [[{{node gradients/split_1_grad/concat/split_1/split_dim}}]]\n",
      "2023-05-11 12:12:14.505391: I tensorflow/core/grappler/optimizers/custom_graph_optimizer_registry.cc:114] Plugin optimizer for device_type GPU is enabled.\n",
      "2023-05-11 12:12:14.643427: I tensorflow/core/grappler/optimizers/custom_graph_optimizer_registry.cc:114] Plugin optimizer for device_type GPU is enabled.\n"
     ]
    },
    {
     "name": "stdout",
     "output_type": "stream",
     "text": [
      "98/98 [==============================] - 39s 368ms/step - loss: 0.2212 - accuracy: 0.9428 - val_loss: 0.1895 - val_accuracy: 0.9537\n",
      "Epoch 2/100\n",
      "98/98 [==============================] - 31s 313ms/step - loss: 0.2110 - accuracy: 0.9470 - val_loss: 0.1792 - val_accuracy: 0.9537\n",
      "Epoch 3/100\n",
      "98/98 [==============================] - 31s 315ms/step - loss: 0.2057 - accuracy: 0.9470 - val_loss: 0.1923 - val_accuracy: 0.9537\n",
      "Epoch 4/100\n",
      "98/98 [==============================] - 31s 321ms/step - loss: 0.1949 - accuracy: 0.9469 - val_loss: 0.1707 - val_accuracy: 0.9537\n",
      "Epoch 5/100\n",
      "98/98 [==============================] - 35s 361ms/step - loss: 0.1806 - accuracy: 0.9469 - val_loss: 0.1795 - val_accuracy: 0.9537\n",
      "Epoch 6/100\n",
      "98/98 [==============================] - 32s 324ms/step - loss: 0.1700 - accuracy: 0.9470 - val_loss: 0.1557 - val_accuracy: 0.9551\n",
      "Epoch 7/100\n",
      "98/98 [==============================] - 37s 374ms/step - loss: 0.1461 - accuracy: 0.9483 - val_loss: 0.1327 - val_accuracy: 0.9537\n",
      "Epoch 8/100\n",
      "98/98 [==============================] - 35s 357ms/step - loss: 0.1257 - accuracy: 0.9562 - val_loss: 0.1223 - val_accuracy: 0.9537\n",
      "Epoch 9/100\n",
      "98/98 [==============================] - 32s 327ms/step - loss: 0.1156 - accuracy: 0.9567 - val_loss: 0.1259 - val_accuracy: 0.9624\n",
      "Epoch 10/100\n",
      "98/98 [==============================] - 37s 380ms/step - loss: 0.1005 - accuracy: 0.9647 - val_loss: 0.0970 - val_accuracy: 0.9667\n",
      "Epoch 11/100\n",
      "98/98 [==============================] - 35s 356ms/step - loss: 0.0903 - accuracy: 0.9670 - val_loss: 0.1096 - val_accuracy: 0.9667\n",
      "Epoch 12/100\n",
      "98/98 [==============================] - 32s 330ms/step - loss: 0.0811 - accuracy: 0.9702 - val_loss: 0.0970 - val_accuracy: 0.9667\n",
      "Epoch 13/100\n",
      "98/98 [==============================] - 34s 347ms/step - loss: 0.0752 - accuracy: 0.9725 - val_loss: 0.0888 - val_accuracy: 0.9740\n",
      "Epoch 14/100\n",
      "98/98 [==============================] - 35s 361ms/step - loss: 0.0708 - accuracy: 0.9757 - val_loss: 0.0947 - val_accuracy: 0.9725\n",
      "Epoch 15/100\n",
      "98/98 [==============================] - 33s 338ms/step - loss: 0.1042 - accuracy: 0.9646 - val_loss: 0.0915 - val_accuracy: 0.9696\n",
      "Epoch 16/100\n",
      "98/98 [==============================] - 33s 336ms/step - loss: 0.0773 - accuracy: 0.9734 - val_loss: 0.0916 - val_accuracy: 0.9754\n",
      "Epoch 17/100\n",
      "98/98 [==============================] - 34s 350ms/step - loss: 0.0650 - accuracy: 0.9776 - val_loss: 0.0948 - val_accuracy: 0.9740\n"
     ]
    }
   ],
   "source": [
    "# monitoring validation loss for early stopping to avoid overfitting with patience of 4\n",
    "early_stop = tf.keras.callbacks.EarlyStopping(monitor='val_loss', \n",
    "                                mode='min', \n",
    "                               patience = 4 )\n",
    "# utilization of adam optimization\n",
    "model.compile(loss='binary_crossentropy',\n",
    "              optimizer='adam',\n",
    "              metrics=['accuracy'])\n",
    "# use gpu and fit model, considered a validation_split of 10% from the training dataset\n",
    "with tf.device('/GPU:0'):\n",
    "\n",
    "    lstm_model_glove = model.fit(pad_train,y_train, \n",
    "                    validation_split= 0.1,  \n",
    "                  epochs = 100, \n",
    "                  batch_size = 64, \n",
    "                  callbacks =[early_stop])"
   ]
  },
  {
   "cell_type": "code",
   "execution_count": 26,
   "metadata": {},
   "outputs": [
    {
     "name": "stderr",
     "output_type": "stream",
     "text": [
      "2023-05-11 12:21:14.322845: I tensorflow/core/common_runtime/executor.cc:1197] [/device:CPU:0] (DEBUG INFO) Executor start aborting (this does not indicate an error and you can ignore this message): INVALID_ARGUMENT: You must feed a value for placeholder tensor 'gradients/split_2_grad/concat/split_2/split_dim' with dtype int32\n",
      "\t [[{{node gradients/split_2_grad/concat/split_2/split_dim}}]]\n",
      "2023-05-11 12:21:14.323962: I tensorflow/core/common_runtime/executor.cc:1197] [/device:CPU:0] (DEBUG INFO) Executor start aborting (this does not indicate an error and you can ignore this message): INVALID_ARGUMENT: You must feed a value for placeholder tensor 'gradients/split_grad/concat/split/split_dim' with dtype int32\n",
      "\t [[{{node gradients/split_grad/concat/split/split_dim}}]]\n",
      "2023-05-11 12:21:14.325164: I tensorflow/core/common_runtime/executor.cc:1197] [/device:CPU:0] (DEBUG INFO) Executor start aborting (this does not indicate an error and you can ignore this message): INVALID_ARGUMENT: You must feed a value for placeholder tensor 'gradients/split_1_grad/concat/split_1/split_dim' with dtype int32\n",
      "\t [[{{node gradients/split_1_grad/concat/split_1/split_dim}}]]\n",
      "2023-05-11 12:21:14.361810: I tensorflow/core/grappler/optimizers/custom_graph_optimizer_registry.cc:114] Plugin optimizer for device_type GPU is enabled.\n",
      "2023-05-11 12:21:14.463663: I tensorflow/core/grappler/optimizers/custom_graph_optimizer_registry.cc:114] Plugin optimizer for device_type GPU is enabled.\n"
     ]
    },
    {
     "name": "stdout",
     "output_type": "stream",
     "text": [
      "93/93 [==============================] - 6s 57ms/step\n",
      "              precision    recall  f1-score   support\n",
      "\n",
      "         0.0       0.99      0.98      0.98      2853\n",
      "         1.0       0.55      0.82      0.66       105\n",
      "\n",
      "    accuracy                           0.97      2958\n",
      "   macro avg       0.77      0.90      0.82      2958\n",
      "weighted avg       0.98      0.97      0.97      2958\n",
      "\n"
     ]
    }
   ],
   "source": [
    "# make predictions on the test data: \n",
    "y_pred = model.predict(pad_test)\n",
    "y_pred = np.round(y_pred)\n",
    "print(classification_report(y_pred, y_test))"
   ]
  },
  {
   "cell_type": "markdown",
   "metadata": {},
   "source": [
    "# Wrong Buying:"
   ]
  },
  {
   "cell_type": "code",
   "execution_count": 4,
   "metadata": {},
   "outputs": [
    {
     "name": "stdout",
     "output_type": "stream",
     "text": [
      "Found 400000 word vectors.\n"
     ]
    }
   ],
   "source": [
    "wrong_buying_df = pd.read_csv('/Users/kartikvijay/Documents/MADS/Thesis pt.2/xgboost_LSTMs/general_training_data/wrong_buying_general.csv')\n",
    "\n",
    "# train test split for disagreement with ratings df: \n",
    "train, test_df = get_train_test_split(wrong_buying_df,stratify_col=wrong_buying_df['wrong_buying_ohe'])\n",
    "\n",
    "\n",
    "pad_train, pad_test, y_train,y_test, V, embedding_matrix= create_lstm_train_data(train,\n",
    "                                                                                test_df, \n",
    "                                                                                'full_review',\n",
    "                                                                                'wrong_buying_ohe'\n",
    "                                                                                 )\n"
   ]
  },
  {
   "cell_type": "code",
   "execution_count": 5,
   "metadata": {},
   "outputs": [
    {
     "name": "stdout",
     "output_type": "stream",
     "text": [
      "Metal device set to: Apple M2\n",
      "\n",
      "systemMemory: 16.00 GB\n",
      "maxCacheSize: 5.33 GB\n",
      "\n"
     ]
    },
    {
     "name": "stderr",
     "output_type": "stream",
     "text": [
      "2023-05-27 18:22:26.646390: I tensorflow/core/common_runtime/pluggable_device/pluggable_device_factory.cc:306] Could not identify NUMA node of platform GPU ID 0, defaulting to 0. Your kernel may not have been built with NUMA support.\n",
      "2023-05-27 18:22:26.647265: I tensorflow/core/common_runtime/pluggable_device/pluggable_device_factory.cc:272] Created TensorFlow device (/job:localhost/replica:0/task:0/device:GPU:0 with 0 MB memory) -> physical PluggableDevice (device: 0, name: METAL, pci bus id: <undefined>)\n"
     ]
    },
    {
     "name": "stdout",
     "output_type": "stream",
     "text": [
      "Model: \"model\"\n",
      "_________________________________________________________________\n",
      " Layer (type)                Output Shape              Param #   \n",
      "=================================================================\n",
      " input_1 (InputLayer)        [(None, 512)]             0         \n",
      "                                                                 \n",
      " embedding (Embedding)       (None, 512, 100)          3528400   \n",
      "                                                                 \n",
      " lstm (LSTM)                 (None, 350)               631400    \n",
      "                                                                 \n",
      " dense (Dense)               (None, 256)               89856     \n",
      "                                                                 \n",
      " dropout (Dropout)           (None, 256)               0         \n",
      "                                                                 \n",
      " dense_1 (Dense)             (None, 1)                 257       \n",
      "                                                                 \n",
      "=================================================================\n",
      "Total params: 4,249,913\n",
      "Trainable params: 721,513\n",
      "Non-trainable params: 3,528,400\n",
      "_________________________________________________________________\n"
     ]
    },
    {
     "name": "stderr",
     "output_type": "stream",
     "text": [
      "2023-05-27 18:22:27.139348: I tensorflow/core/common_runtime/executor.cc:1197] [/device:CPU:0] (DEBUG INFO) Executor start aborting (this does not indicate an error and you can ignore this message): INVALID_ARGUMENT: You must feed a value for placeholder tensor 'gradients/split_2_grad/concat/split_2/split_dim' with dtype int32\n",
      "\t [[{{node gradients/split_2_grad/concat/split_2/split_dim}}]]\n",
      "2023-05-27 18:22:27.140225: I tensorflow/core/common_runtime/executor.cc:1197] [/device:CPU:0] (DEBUG INFO) Executor start aborting (this does not indicate an error and you can ignore this message): INVALID_ARGUMENT: You must feed a value for placeholder tensor 'gradients/split_grad/concat/split/split_dim' with dtype int32\n",
      "\t [[{{node gradients/split_grad/concat/split/split_dim}}]]\n",
      "2023-05-27 18:22:27.140892: I tensorflow/core/common_runtime/executor.cc:1197] [/device:CPU:0] (DEBUG INFO) Executor start aborting (this does not indicate an error and you can ignore this message): INVALID_ARGUMENT: You must feed a value for placeholder tensor 'gradients/split_1_grad/concat/split_1/split_dim' with dtype int32\n",
      "\t [[{{node gradients/split_1_grad/concat/split_1/split_dim}}]]\n"
     ]
    }
   ],
   "source": [
    "be.clear_session()\n",
    "with tf.device('/GPU:0'):\n",
    "     # takes input with shape as specified,   \n",
    "    input_ = Input(shape=(512,))\n",
    "    # creation of the embedding layer and setting pre-trained word weights and trainable\n",
    "    # parameter as false\n",
    "    embeds = Embedding(V+1, 100,input_length = 512, weights=[embedding_matrix], trainable = False)(input_)\n",
    "    # adding dropout for regularization\n",
    "#     drop = tf.keras.layers.Dropout(0.3)(embeds)\n",
    "    # Creation of lstm layer with 350 as dimension of the output space.\n",
    "    lstm_1 = LSTM(350)(embeds)\n",
    "    # add fully connected dense layer to combine and weight the features that are extracted from LSTM. Addition\n",
    "    # of the dense layer allows for better regularization as well by the addition of parameters. \n",
    "    # Treating the output from lstm as a regression problem\n",
    "    weight_dense = Dense(units=256, activation='relu')(lstm_1)\n",
    "    # added dropout for further regularization\n",
    "    drop_2 = Dropout(0.7)(weight_dense)\n",
    "    # output layer with sigmoid activation for binary classification\n",
    "    output_layer = Dense(1, activation='sigmoid')(drop_2)\n",
    "    # Finally, create a model instance!\n",
    "    model = Model(inputs = input_, outputs = output_layer)\n",
    "    model.summary()"
   ]
  },
  {
   "cell_type": "code",
   "execution_count": 6,
   "metadata": {},
   "outputs": [
    {
     "name": "stdout",
     "output_type": "stream",
     "text": [
      "Epoch 1/100\n"
     ]
    },
    {
     "name": "stderr",
     "output_type": "stream",
     "text": [
      "2023-05-27 18:22:41.171277: I tensorflow/core/common_runtime/executor.cc:1197] [/device:CPU:0] (DEBUG INFO) Executor start aborting (this does not indicate an error and you can ignore this message): INVALID_ARGUMENT: You must feed a value for placeholder tensor 'gradients/split_2_grad/concat/split_2/split_dim' with dtype int32\n",
      "\t [[{{node gradients/split_2_grad/concat/split_2/split_dim}}]]\n",
      "2023-05-27 18:22:41.172241: I tensorflow/core/common_runtime/executor.cc:1197] [/device:CPU:0] (DEBUG INFO) Executor start aborting (this does not indicate an error and you can ignore this message): INVALID_ARGUMENT: You must feed a value for placeholder tensor 'gradients/split_grad/concat/split/split_dim' with dtype int32\n",
      "\t [[{{node gradients/split_grad/concat/split/split_dim}}]]\n",
      "2023-05-27 18:22:41.172881: I tensorflow/core/common_runtime/executor.cc:1197] [/device:CPU:0] (DEBUG INFO) Executor start aborting (this does not indicate an error and you can ignore this message): INVALID_ARGUMENT: You must feed a value for placeholder tensor 'gradients/split_1_grad/concat/split_1/split_dim' with dtype int32\n",
      "\t [[{{node gradients/split_1_grad/concat/split_1/split_dim}}]]\n",
      "2023-05-27 18:22:41.600760: I tensorflow/core/common_runtime/executor.cc:1197] [/device:CPU:0] (DEBUG INFO) Executor start aborting (this does not indicate an error and you can ignore this message): INVALID_ARGUMENT: You must feed a value for placeholder tensor 'gradients/split_2_grad/concat/split_2/split_dim' with dtype int32\n",
      "\t [[{{node gradients/split_2_grad/concat/split_2/split_dim}}]]\n",
      "2023-05-27 18:22:41.601856: I tensorflow/core/common_runtime/executor.cc:1197] [/device:CPU:0] (DEBUG INFO) Executor start aborting (this does not indicate an error and you can ignore this message): INVALID_ARGUMENT: You must feed a value for placeholder tensor 'gradients/split_grad/concat/split/split_dim' with dtype int32\n",
      "\t [[{{node gradients/split_grad/concat/split/split_dim}}]]\n",
      "2023-05-27 18:22:41.602564: I tensorflow/core/common_runtime/executor.cc:1197] [/device:CPU:0] (DEBUG INFO) Executor start aborting (this does not indicate an error and you can ignore this message): INVALID_ARGUMENT: You must feed a value for placeholder tensor 'gradients/split_1_grad/concat/split_1/split_dim' with dtype int32\n",
      "\t [[{{node gradients/split_1_grad/concat/split_1/split_dim}}]]\n",
      "2023-05-27 18:22:41.837019: I tensorflow/core/grappler/optimizers/custom_graph_optimizer_registry.cc:114] Plugin optimizer for device_type GPU is enabled.\n",
      "2023-05-27 18:22:42.186667: I tensorflow/core/grappler/optimizers/custom_graph_optimizer_registry.cc:114] Plugin optimizer for device_type GPU is enabled.\n",
      "2023-05-27 18:22:42.715536: I tensorflow/core/grappler/optimizers/custom_graph_optimizer_registry.cc:114] Plugin optimizer for device_type GPU is enabled.\n"
     ]
    },
    {
     "name": "stdout",
     "output_type": "stream",
     "text": [
      "111/111 [==============================] - ETA: 0s - loss: 0.3180 - accuracy: 0.9033"
     ]
    },
    {
     "name": "stderr",
     "output_type": "stream",
     "text": [
      "2023-05-27 18:23:02.132119: I tensorflow/core/common_runtime/executor.cc:1197] [/device:CPU:0] (DEBUG INFO) Executor start aborting (this does not indicate an error and you can ignore this message): INVALID_ARGUMENT: You must feed a value for placeholder tensor 'gradients/split_2_grad/concat/split_2/split_dim' with dtype int32\n",
      "\t [[{{node gradients/split_2_grad/concat/split_2/split_dim}}]]\n",
      "2023-05-27 18:23:02.133201: I tensorflow/core/common_runtime/executor.cc:1197] [/device:CPU:0] (DEBUG INFO) Executor start aborting (this does not indicate an error and you can ignore this message): INVALID_ARGUMENT: You must feed a value for placeholder tensor 'gradients/split_grad/concat/split/split_dim' with dtype int32\n",
      "\t [[{{node gradients/split_grad/concat/split/split_dim}}]]\n",
      "2023-05-27 18:23:02.133865: I tensorflow/core/common_runtime/executor.cc:1197] [/device:CPU:0] (DEBUG INFO) Executor start aborting (this does not indicate an error and you can ignore this message): INVALID_ARGUMENT: You must feed a value for placeholder tensor 'gradients/split_1_grad/concat/split_1/split_dim' with dtype int32\n",
      "\t [[{{node gradients/split_1_grad/concat/split_1/split_dim}}]]\n",
      "2023-05-27 18:23:02.173259: I tensorflow/core/grappler/optimizers/custom_graph_optimizer_registry.cc:114] Plugin optimizer for device_type GPU is enabled.\n",
      "2023-05-27 18:23:02.251871: I tensorflow/core/grappler/optimizers/custom_graph_optimizer_registry.cc:114] Plugin optimizer for device_type GPU is enabled.\n"
     ]
    },
    {
     "name": "stdout",
     "output_type": "stream",
     "text": [
      "111/111 [==============================] - 22s 181ms/step - loss: 0.3180 - accuracy: 0.9033 - val_loss: 0.2520 - val_accuracy: 0.9301\n",
      "Epoch 2/100\n",
      "111/111 [==============================] - 19s 173ms/step - loss: 0.3040 - accuracy: 0.9074 - val_loss: 0.2490 - val_accuracy: 0.9301\n",
      "Epoch 3/100\n",
      "111/111 [==============================] - 19s 172ms/step - loss: 0.3030 - accuracy: 0.9074 - val_loss: 0.2499 - val_accuracy: 0.9301\n",
      "Epoch 4/100\n",
      "111/111 [==============================] - 19s 173ms/step - loss: 0.2926 - accuracy: 0.9075 - val_loss: 0.2494 - val_accuracy: 0.9301\n",
      "Epoch 5/100\n",
      "111/111 [==============================] - 19s 174ms/step - loss: 0.2761 - accuracy: 0.9075 - val_loss: 0.2417 - val_accuracy: 0.9288\n",
      "Epoch 6/100\n",
      "111/111 [==============================] - 19s 169ms/step - loss: 0.2508 - accuracy: 0.9075 - val_loss: 0.2111 - val_accuracy: 0.9288\n",
      "Epoch 7/100\n",
      "111/111 [==============================] - 19s 169ms/step - loss: 0.2207 - accuracy: 0.9084 - val_loss: 0.2043 - val_accuracy: 0.9238\n",
      "Epoch 8/100\n",
      "111/111 [==============================] - 19s 170ms/step - loss: 0.2016 - accuracy: 0.9183 - val_loss: 0.1840 - val_accuracy: 0.9365\n",
      "Epoch 9/100\n",
      "111/111 [==============================] - 19s 169ms/step - loss: 0.1685 - accuracy: 0.9334 - val_loss: 0.1906 - val_accuracy: 0.9314\n",
      "Epoch 10/100\n",
      "111/111 [==============================] - 19s 172ms/step - loss: 0.1453 - accuracy: 0.9439 - val_loss: 0.1751 - val_accuracy: 0.9441\n",
      "Epoch 11/100\n",
      "111/111 [==============================] - 19s 171ms/step - loss: 0.1271 - accuracy: 0.9504 - val_loss: 0.1796 - val_accuracy: 0.9377\n",
      "Epoch 12/100\n",
      "111/111 [==============================] - 19s 172ms/step - loss: 0.1082 - accuracy: 0.9597 - val_loss: 0.1974 - val_accuracy: 0.9301\n",
      "Epoch 13/100\n",
      "111/111 [==============================] - 19s 173ms/step - loss: 0.0930 - accuracy: 0.9664 - val_loss: 0.2303 - val_accuracy: 0.9111\n"
     ]
    }
   ],
   "source": [
    "# monitoring validation loss for early stopping to avoid overfitting with patience of 4\n",
    "early_stop = tf.keras.callbacks.EarlyStopping(monitor='val_loss', \n",
    "                                mode='min', \n",
    "                               patience = 3 )\n",
    "# utilization of adam optimization\n",
    "model.compile(loss='binary_crossentropy',\n",
    "              optimizer='adam',\n",
    "              metrics=['accuracy'])\n",
    "# use gpu and fit model, considered a validation_split of 10% from the training dataset\n",
    "with tf.device('/GPU:0'):\n",
    "\n",
    "    lstm_model_glove = model.fit(pad_train,y_train, \n",
    "                    validation_split= 0.1,  \n",
    "                  epochs = 100, \n",
    "                  batch_size = 64, \n",
    "                  callbacks =[early_stop])"
   ]
  },
  {
   "cell_type": "code",
   "execution_count": 7,
   "metadata": {},
   "outputs": [
    {
     "name": "stdout",
     "output_type": "stream",
     "text": [
      "  1/106 [..............................] - ETA: 35s"
     ]
    },
    {
     "name": "stderr",
     "output_type": "stream",
     "text": [
      "2023-05-27 18:26:51.415686: I tensorflow/core/common_runtime/executor.cc:1197] [/device:CPU:0] (DEBUG INFO) Executor start aborting (this does not indicate an error and you can ignore this message): INVALID_ARGUMENT: You must feed a value for placeholder tensor 'gradients/split_2_grad/concat/split_2/split_dim' with dtype int32\n",
      "\t [[{{node gradients/split_2_grad/concat/split_2/split_dim}}]]\n",
      "2023-05-27 18:26:51.416743: I tensorflow/core/common_runtime/executor.cc:1197] [/device:CPU:0] (DEBUG INFO) Executor start aborting (this does not indicate an error and you can ignore this message): INVALID_ARGUMENT: You must feed a value for placeholder tensor 'gradients/split_grad/concat/split/split_dim' with dtype int32\n",
      "\t [[{{node gradients/split_grad/concat/split/split_dim}}]]\n",
      "2023-05-27 18:26:51.417559: I tensorflow/core/common_runtime/executor.cc:1197] [/device:CPU:0] (DEBUG INFO) Executor start aborting (this does not indicate an error and you can ignore this message): INVALID_ARGUMENT: You must feed a value for placeholder tensor 'gradients/split_1_grad/concat/split_1/split_dim' with dtype int32\n",
      "\t [[{{node gradients/split_1_grad/concat/split_1/split_dim}}]]\n",
      "2023-05-27 18:26:51.441171: I tensorflow/core/grappler/optimizers/custom_graph_optimizer_registry.cc:114] Plugin optimizer for device_type GPU is enabled.\n",
      "2023-05-27 18:26:51.510865: I tensorflow/core/grappler/optimizers/custom_graph_optimizer_registry.cc:114] Plugin optimizer for device_type GPU is enabled.\n"
     ]
    },
    {
     "name": "stdout",
     "output_type": "stream",
     "text": [
      "106/106 [==============================] - 4s 33ms/step\n",
      "              precision    recall  f1-score   support\n",
      "\n",
      "         0.0       0.93      0.96      0.95      2954\n",
      "         1.0       0.65      0.48      0.55       415\n",
      "\n",
      "    accuracy                           0.90      3369\n",
      "   macro avg       0.79      0.72      0.75      3369\n",
      "weighted avg       0.90      0.90      0.90      3369\n",
      "\n"
     ]
    }
   ],
   "source": [
    "# make predictions on the test data: \n",
    "y_pred = model.predict(pad_test)\n",
    "y_pred = np.round(y_pred)\n",
    "print(classification_report(y_pred, y_test))"
   ]
  },
  {
   "cell_type": "markdown",
   "metadata": {},
   "source": [
    "# Zero Stars:"
   ]
  },
  {
   "cell_type": "code",
   "execution_count": 32,
   "metadata": {},
   "outputs": [
    {
     "name": "stdout",
     "output_type": "stream",
     "text": [
      "Found 400000 word vectors.\n"
     ]
    }
   ],
   "source": [
    "zero_stars_df = pd.read_csv('/Users/kartikvijay/Documents/MADS/Thesis pt.2/xgboost_LSTMs/general_training_data/zero_star_general.csv')\n",
    "# train test split for disagreement with ratings df: \n",
    "train, test_df = get_train_test_split(zero_stars_df,stratify_col=zero_stars_df['zero_star_ohe'])\n",
    "\n",
    "\n",
    "pad_train, pad_test, y_train,y_test, V, embedding_matrix= create_lstm_train_data(train,\n",
    "                                                                                test_df, \n",
    "                                                                                'full_review',\n",
    "                                                                                'zero_star_ohe'\n",
    "                                                                                 )\n"
   ]
  },
  {
   "cell_type": "code",
   "execution_count": 33,
   "metadata": {},
   "outputs": [
    {
     "name": "stdout",
     "output_type": "stream",
     "text": [
      "Model: \"model\"\n",
      "_________________________________________________________________\n",
      " Layer (type)                Output Shape              Param #   \n",
      "=================================================================\n",
      " input_1 (InputLayer)        [(None, 512)]             0         \n",
      "                                                                 \n",
      " embedding (Embedding)       (None, 512, 100)          3512900   \n",
      "                                                                 \n",
      " dropout (Dropout)           (None, 512, 100)          0         \n",
      "                                                                 \n",
      " lstm (LSTM)                 (None, 350)               631400    \n",
      "                                                                 \n",
      " dense (Dense)               (None, 256)               89856     \n",
      "                                                                 \n",
      " dropout_1 (Dropout)         (None, 256)               0         \n",
      "                                                                 \n",
      " dense_1 (Dense)             (None, 1)                 257       \n",
      "                                                                 \n",
      "=================================================================\n",
      "Total params: 4,234,413\n",
      "Trainable params: 721,513\n",
      "Non-trainable params: 3,512,900\n",
      "_________________________________________________________________\n"
     ]
    },
    {
     "name": "stderr",
     "output_type": "stream",
     "text": [
      "2023-05-11 12:32:03.953597: I tensorflow/core/common_runtime/executor.cc:1197] [/device:CPU:0] (DEBUG INFO) Executor start aborting (this does not indicate an error and you can ignore this message): INVALID_ARGUMENT: You must feed a value for placeholder tensor 'gradients/split_2_grad/concat/split_2/split_dim' with dtype int32\n",
      "\t [[{{node gradients/split_2_grad/concat/split_2/split_dim}}]]\n",
      "2023-05-11 12:32:03.954979: I tensorflow/core/common_runtime/executor.cc:1197] [/device:CPU:0] (DEBUG INFO) Executor start aborting (this does not indicate an error and you can ignore this message): INVALID_ARGUMENT: You must feed a value for placeholder tensor 'gradients/split_grad/concat/split/split_dim' with dtype int32\n",
      "\t [[{{node gradients/split_grad/concat/split/split_dim}}]]\n",
      "2023-05-11 12:32:03.956371: I tensorflow/core/common_runtime/executor.cc:1197] [/device:CPU:0] (DEBUG INFO) Executor start aborting (this does not indicate an error and you can ignore this message): INVALID_ARGUMENT: You must feed a value for placeholder tensor 'gradients/split_1_grad/concat/split_1/split_dim' with dtype int32\n",
      "\t [[{{node gradients/split_1_grad/concat/split_1/split_dim}}]]\n"
     ]
    }
   ],
   "source": [
    "be.clear_session()\n",
    "with tf.device('/GPU:0'):\n",
    "     # takes input with shape as specified,   \n",
    "    input_ = Input(shape=(512,))\n",
    "    # creation of the embedding layer and setting pre-trained word weights and trainable\n",
    "    # parameter as false\n",
    "    embeds = Embedding(V+1, 100,input_length = 512, weights=[embedding_matrix], trainable = False)(input_)\n",
    "    # adding dropout for regularization\n",
    "    drop = tf.keras.layers.Dropout(0.3)(embeds)\n",
    "    # Creation of lstm layer with 350 as dimension of the output space.\n",
    "    lstm_1 = LSTM(350)(drop)\n",
    "    # add fully connected dense layer to combine and weight the features that are extracted from LSTM. Addition\n",
    "    # of the dense layer allows for better regularization as well by the addition of parameters. \n",
    "    # Treating the output from lstm as a regression problem\n",
    "    weight_dense = Dense(units=256, activation='relu')(lstm_1)\n",
    "    # added dropout for further regularization\n",
    "    drop_2 = Dropout(0.5)(weight_dense)\n",
    "    # output layer with sigmoid activation for binary classification\n",
    "    output_layer = Dense(1, activation='sigmoid')(drop_2)\n",
    "    # Finally, create a model instance!\n",
    "    model = Model(inputs = input_, outputs = output_layer)\n",
    "    model.summary()"
   ]
  },
  {
   "cell_type": "code",
   "execution_count": 34,
   "metadata": {},
   "outputs": [
    {
     "name": "stdout",
     "output_type": "stream",
     "text": [
      "Epoch 1/100\n"
     ]
    },
    {
     "name": "stderr",
     "output_type": "stream",
     "text": [
      "2023-05-11 12:32:17.871994: I tensorflow/core/common_runtime/executor.cc:1197] [/device:CPU:0] (DEBUG INFO) Executor start aborting (this does not indicate an error and you can ignore this message): INVALID_ARGUMENT: You must feed a value for placeholder tensor 'gradients/split_2_grad/concat/split_2/split_dim' with dtype int32\n",
      "\t [[{{node gradients/split_2_grad/concat/split_2/split_dim}}]]\n",
      "2023-05-11 12:32:17.873679: I tensorflow/core/common_runtime/executor.cc:1197] [/device:CPU:0] (DEBUG INFO) Executor start aborting (this does not indicate an error and you can ignore this message): INVALID_ARGUMENT: You must feed a value for placeholder tensor 'gradients/split_grad/concat/split/split_dim' with dtype int32\n",
      "\t [[{{node gradients/split_grad/concat/split/split_dim}}]]\n",
      "2023-05-11 12:32:17.874821: I tensorflow/core/common_runtime/executor.cc:1197] [/device:CPU:0] (DEBUG INFO) Executor start aborting (this does not indicate an error and you can ignore this message): INVALID_ARGUMENT: You must feed a value for placeholder tensor 'gradients/split_1_grad/concat/split_1/split_dim' with dtype int32\n",
      "\t [[{{node gradients/split_1_grad/concat/split_1/split_dim}}]]\n",
      "2023-05-11 12:32:18.439625: I tensorflow/core/common_runtime/executor.cc:1197] [/device:CPU:0] (DEBUG INFO) Executor start aborting (this does not indicate an error and you can ignore this message): INVALID_ARGUMENT: You must feed a value for placeholder tensor 'gradients/split_2_grad/concat/split_2/split_dim' with dtype int32\n",
      "\t [[{{node gradients/split_2_grad/concat/split_2/split_dim}}]]\n",
      "2023-05-11 12:32:18.441141: I tensorflow/core/common_runtime/executor.cc:1197] [/device:CPU:0] (DEBUG INFO) Executor start aborting (this does not indicate an error and you can ignore this message): INVALID_ARGUMENT: You must feed a value for placeholder tensor 'gradients/split_grad/concat/split/split_dim' with dtype int32\n",
      "\t [[{{node gradients/split_grad/concat/split/split_dim}}]]\n",
      "2023-05-11 12:32:18.442167: I tensorflow/core/common_runtime/executor.cc:1197] [/device:CPU:0] (DEBUG INFO) Executor start aborting (this does not indicate an error and you can ignore this message): INVALID_ARGUMENT: You must feed a value for placeholder tensor 'gradients/split_1_grad/concat/split_1/split_dim' with dtype int32\n",
      "\t [[{{node gradients/split_1_grad/concat/split_1/split_dim}}]]\n",
      "2023-05-11 12:32:18.872484: I tensorflow/core/grappler/optimizers/custom_graph_optimizer_registry.cc:114] Plugin optimizer for device_type GPU is enabled.\n",
      "2023-05-11 12:32:19.385987: I tensorflow/core/grappler/optimizers/custom_graph_optimizer_registry.cc:114] Plugin optimizer for device_type GPU is enabled.\n",
      "2023-05-11 12:32:20.061015: I tensorflow/core/grappler/optimizers/custom_graph_optimizer_registry.cc:114] Plugin optimizer for device_type GPU is enabled.\n"
     ]
    },
    {
     "name": "stdout",
     "output_type": "stream",
     "text": [
      "111/111 [==============================] - ETA: 0s - loss: 0.3566 - accuracy: 0.8763"
     ]
    },
    {
     "name": "stderr",
     "output_type": "stream",
     "text": [
      "2023-05-11 12:32:57.318490: I tensorflow/core/common_runtime/executor.cc:1197] [/device:CPU:0] (DEBUG INFO) Executor start aborting (this does not indicate an error and you can ignore this message): INVALID_ARGUMENT: You must feed a value for placeholder tensor 'gradients/split_2_grad/concat/split_2/split_dim' with dtype int32\n",
      "\t [[{{node gradients/split_2_grad/concat/split_2/split_dim}}]]\n",
      "2023-05-11 12:32:57.319556: I tensorflow/core/common_runtime/executor.cc:1197] [/device:CPU:0] (DEBUG INFO) Executor start aborting (this does not indicate an error and you can ignore this message): INVALID_ARGUMENT: You must feed a value for placeholder tensor 'gradients/split_grad/concat/split/split_dim' with dtype int32\n",
      "\t [[{{node gradients/split_grad/concat/split/split_dim}}]]\n",
      "2023-05-11 12:32:57.320590: I tensorflow/core/common_runtime/executor.cc:1197] [/device:CPU:0] (DEBUG INFO) Executor start aborting (this does not indicate an error and you can ignore this message): INVALID_ARGUMENT: You must feed a value for placeholder tensor 'gradients/split_1_grad/concat/split_1/split_dim' with dtype int32\n",
      "\t [[{{node gradients/split_1_grad/concat/split_1/split_dim}}]]\n",
      "2023-05-11 12:32:57.387416: I tensorflow/core/grappler/optimizers/custom_graph_optimizer_registry.cc:114] Plugin optimizer for device_type GPU is enabled.\n",
      "2023-05-11 12:32:57.523793: I tensorflow/core/grappler/optimizers/custom_graph_optimizer_registry.cc:114] Plugin optimizer for device_type GPU is enabled.\n"
     ]
    },
    {
     "name": "stdout",
     "output_type": "stream",
     "text": [
      "111/111 [==============================] - 41s 349ms/step - loss: 0.3566 - accuracy: 0.8763 - val_loss: 0.2462 - val_accuracy: 0.9136\n",
      "Epoch 2/100\n",
      "111/111 [==============================] - 38s 341ms/step - loss: 0.2488 - accuracy: 0.8978 - val_loss: 0.1784 - val_accuracy: 0.8945\n",
      "Epoch 3/100\n",
      "111/111 [==============================] - 39s 347ms/step - loss: 0.3187 - accuracy: 0.8848 - val_loss: 0.3165 - val_accuracy: 0.9009\n",
      "Epoch 4/100\n",
      "111/111 [==============================] - 39s 346ms/step - loss: 0.2930 - accuracy: 0.9056 - val_loss: 0.2718 - val_accuracy: 0.9136\n",
      "Epoch 5/100\n",
      "111/111 [==============================] - 37s 334ms/step - loss: 0.2385 - accuracy: 0.9208 - val_loss: 0.1493 - val_accuracy: 0.9454\n",
      "Epoch 6/100\n",
      "111/111 [==============================] - 40s 364ms/step - loss: 0.1605 - accuracy: 0.9450 - val_loss: 0.1198 - val_accuracy: 0.9657\n",
      "Epoch 7/100\n",
      "111/111 [==============================] - 39s 352ms/step - loss: 0.1593 - accuracy: 0.9490 - val_loss: 0.1191 - val_accuracy: 0.9593\n",
      "Epoch 8/100\n",
      "111/111 [==============================] - 40s 357ms/step - loss: 0.1249 - accuracy: 0.9579 - val_loss: 0.1028 - val_accuracy: 0.9632\n",
      "Epoch 9/100\n",
      "111/111 [==============================] - 42s 375ms/step - loss: 0.1172 - accuracy: 0.9604 - val_loss: 0.0964 - val_accuracy: 0.9708\n",
      "Epoch 10/100\n",
      "111/111 [==============================] - 39s 353ms/step - loss: 0.1060 - accuracy: 0.9627 - val_loss: 0.1141 - val_accuracy: 0.9644\n",
      "Epoch 11/100\n",
      "111/111 [==============================] - 40s 359ms/step - loss: 0.1042 - accuracy: 0.9642 - val_loss: 0.0794 - val_accuracy: 0.9720\n",
      "Epoch 12/100\n",
      "111/111 [==============================] - 42s 379ms/step - loss: 0.0999 - accuracy: 0.9644 - val_loss: 0.0785 - val_accuracy: 0.9708\n",
      "Epoch 13/100\n",
      "111/111 [==============================] - 37s 329ms/step - loss: 0.0964 - accuracy: 0.9676 - val_loss: 0.0782 - val_accuracy: 0.9733\n",
      "Epoch 14/100\n",
      "111/111 [==============================] - 37s 337ms/step - loss: 0.0909 - accuracy: 0.9688 - val_loss: 0.0845 - val_accuracy: 0.9644\n",
      "Epoch 15/100\n",
      "111/111 [==============================] - 37s 329ms/step - loss: 0.0882 - accuracy: 0.9724 - val_loss: 0.0907 - val_accuracy: 0.9708\n",
      "Epoch 16/100\n",
      "111/111 [==============================] - 37s 329ms/step - loss: 0.0913 - accuracy: 0.9688 - val_loss: 0.0933 - val_accuracy: 0.9708\n",
      "Epoch 17/100\n",
      "111/111 [==============================] - 38s 338ms/step - loss: 0.0823 - accuracy: 0.9720 - val_loss: 0.0854 - val_accuracy: 0.9746\n"
     ]
    }
   ],
   "source": [
    "# monitoring validation loss for early stopping to avoid overfitting with patience of 4\n",
    "early_stop = tf.keras.callbacks.EarlyStopping(monitor='val_loss', \n",
    "                                mode='min', \n",
    "                               patience = 4 )\n",
    "# utilization of adam optimization\n",
    "model.compile(loss='binary_crossentropy',\n",
    "              optimizer='adam',\n",
    "              metrics=['accuracy'])\n",
    "# use gpu and fit model, considered a validation_split of 10% from the training dataset\n",
    "with tf.device('/GPU:0'):\n",
    "\n",
    "    lstm_model_glove = model.fit(pad_train,y_train, \n",
    "                    validation_split= 0.1,  \n",
    "                  epochs = 100, \n",
    "                  batch_size = 64, \n",
    "                  callbacks =[early_stop])"
   ]
  },
  {
   "cell_type": "code",
   "execution_count": 35,
   "metadata": {},
   "outputs": [
    {
     "name": "stderr",
     "output_type": "stream",
     "text": [
      "2023-05-11 12:43:17.708404: I tensorflow/core/common_runtime/executor.cc:1197] [/device:CPU:0] (DEBUG INFO) Executor start aborting (this does not indicate an error and you can ignore this message): INVALID_ARGUMENT: You must feed a value for placeholder tensor 'gradients/split_2_grad/concat/split_2/split_dim' with dtype int32\n",
      "\t [[{{node gradients/split_2_grad/concat/split_2/split_dim}}]]\n",
      "2023-05-11 12:43:17.709762: I tensorflow/core/common_runtime/executor.cc:1197] [/device:CPU:0] (DEBUG INFO) Executor start aborting (this does not indicate an error and you can ignore this message): INVALID_ARGUMENT: You must feed a value for placeholder tensor 'gradients/split_grad/concat/split/split_dim' with dtype int32\n",
      "\t [[{{node gradients/split_grad/concat/split/split_dim}}]]\n",
      "2023-05-11 12:43:17.710663: I tensorflow/core/common_runtime/executor.cc:1197] [/device:CPU:0] (DEBUG INFO) Executor start aborting (this does not indicate an error and you can ignore this message): INVALID_ARGUMENT: You must feed a value for placeholder tensor 'gradients/split_1_grad/concat/split_1/split_dim' with dtype int32\n",
      "\t [[{{node gradients/split_1_grad/concat/split_1/split_dim}}]]\n",
      "2023-05-11 12:43:17.751942: I tensorflow/core/grappler/optimizers/custom_graph_optimizer_registry.cc:114] Plugin optimizer for device_type GPU is enabled.\n",
      "2023-05-11 12:43:17.874465: I tensorflow/core/grappler/optimizers/custom_graph_optimizer_registry.cc:114] Plugin optimizer for device_type GPU is enabled.\n"
     ]
    },
    {
     "name": "stdout",
     "output_type": "stream",
     "text": [
      "106/106 [==============================] - 8s 68ms/step\n",
      "              precision    recall  f1-score   support\n",
      "\n",
      "         0.0       0.99      0.98      0.98      2995\n",
      "         1.0       0.84      0.93      0.88       374\n",
      "\n",
      "    accuracy                           0.97      3369\n",
      "   macro avg       0.92      0.96      0.93      3369\n",
      "weighted avg       0.97      0.97      0.97      3369\n",
      "\n"
     ]
    }
   ],
   "source": [
    "# make predictions on the test data: \n",
    "y_pred = model.predict(pad_test)\n",
    "y_pred = np.round(y_pred)\n",
    "print(classification_report(y_pred, y_test))"
   ]
  },
  {
   "cell_type": "code",
   "execution_count": 36,
   "metadata": {},
   "outputs": [
    {
     "name": "stdout",
     "output_type": "stream",
     "text": [
      "End of Notebook!\n"
     ]
    }
   ],
   "source": [
    "print('End of Notebook!')"
   ]
  },
  {
   "cell_type": "code",
   "execution_count": null,
   "metadata": {},
   "outputs": [],
   "source": []
  }
 ],
 "metadata": {
  "kernelspec": {
   "display_name": "Sparkmagic (PySpark)",
   "language": "python",
   "name": "pysparkkernel"
  },
  "language_info": {
   "codemirror_mode": {
    "name": "python",
    "version": 3
   },
   "file_extension": ".py",
   "mimetype": "text/x-python",
   "name": "pyspark",
   "pygments_lexer": "python3"
  }
 },
 "nbformat": 4,
 "nbformat_minor": 2
}
