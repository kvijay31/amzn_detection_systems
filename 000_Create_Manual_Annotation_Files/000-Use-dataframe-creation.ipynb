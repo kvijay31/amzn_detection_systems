{
 "cells": [
  {
   "cell_type": "markdown",
   "id": "68c95590",
   "metadata": {},
   "source": [
    "# Purpose: \n",
    "\n",
    "The purpose of this notebook is to input the raw json files containing the amazon reviews and convert them into a tabular structure using pandas dataframes. "
   ]
  },
  {
   "cell_type": "code",
   "execution_count": 1,
   "id": "baca8326",
   "metadata": {},
   "outputs": [],
   "source": [
    "import os \n",
    "import json\n",
    "import pandas as pd \n",
    "import warnings\n",
    "from tqdm import tqdm\n",
    "# ignore all warnings\n",
    "import warnings\n",
    "warnings.filterwarnings(\"ignore\")\n"
   ]
  },
  {
   "cell_type": "code",
   "execution_count": 2,
   "id": "99712458",
   "metadata": {},
   "outputs": [
    {
     "data": {
      "text/plain": [
       "'/home/ec2-user/SageMaker/amazon_thesis_detectron/000_Create_Manual_Annotation_Files'"
      ]
     },
     "execution_count": 2,
     "metadata": {},
     "output_type": "execute_result"
    }
   ],
   "source": [
    "os.getcwd()"
   ]
  },
  {
   "cell_type": "code",
   "execution_count": 3,
   "id": "f4904f10",
   "metadata": {},
   "outputs": [
    {
     "data": {
      "text/plain": [
       "['amazon_reviews_office_7.json',\n",
       " 'amazon_reviews_office_4.json',\n",
       " 'amazon_reviews_office_5.json',\n",
       " 'amazon_reviews_office_0.json',\n",
       " 'amazon_reviews_office_2.json',\n",
       " 'amazon_reviews_office_8.json',\n",
       " 'amazon_reviews_office_3.json',\n",
       " 'amazon_reviews_office_1.json',\n",
       " 'amazon_reviews_office_6.json',\n",
       " 'amazon_reviews_office_9.json']"
      ]
     },
     "execution_count": 3,
     "metadata": {},
     "output_type": "execute_result"
    }
   ],
   "source": [
    "# path to the raw json files containing amazon reviews: \n",
    "path = '/home/ec2-user/SageMaker/office_raw_data'\n",
    "os.listdir(path)"
   ]
  },
  {
   "cell_type": "code",
   "execution_count": 10,
   "id": "e30fa954",
   "metadata": {},
   "outputs": [],
   "source": [
    "# path to save the new dataframe generated from this notebook \n",
    "path_to_saved_location = '/home/ec2-user/SageMaker/amazon_thesis_detectron/000_Create_Manual_Annotation_Files/001_office_data_processed'"
   ]
  },
  {
   "cell_type": "code",
   "execution_count": 11,
   "id": "2bcda20d",
   "metadata": {},
   "outputs": [],
   "source": [
    "def create_data_for_tagging(path_to_file,filename, path_to_saved_location): \n",
    "    \"\"\"\n",
    "    Read JSON data from a file, preprocess it, and save it as a DataFrame in JSON format.\n",
    "\n",
    "    Args:\n",
    "        path_to_file (str): Path to the directory containing the JSON file.\n",
    "        filename (str): Name of the JSON file.\n",
    "        path_to_saved_location (str): Path to the directory where the processed DataFrame will be saved.\n",
    "\n",
    "    Returns:\n",
    "        None\n",
    "    \"\"\"\n",
    "    # Read data from the JSON file\n",
    "    data = [json.loads(line) for line in open(os.path.join(path_to_file,filename),'r')]\n",
    "    prod_master_list = []\n",
    "    for product in data: \n",
    "        # print(product['asin'])\n",
    "        if 'reviews' in product: \n",
    "            if product['reviews'] is  not None:\n",
    "                prod_master_list.append(product)\n",
    "        else:\n",
    "            continue\n",
    "    # incorporate product id and overall rating into every review body:\n",
    "    for product in prod_master_list: \n",
    "        for review in product['reviews']: \n",
    "            review['product_id']= product['asin']\n",
    "            review['overall_rating']= product['rating']\n",
    "        # now remove only the reviews and append to a new list: \n",
    "    reviews = []\n",
    "    for prod in prod_master_list: \n",
    "        reviews.append(prod['reviews'])\n",
    "    master =[]\n",
    "    for lst in tqdm(reviews):\n",
    "        # loop through each dictionary in the list\n",
    "        for dct in lst:\n",
    "            # add the dictionary to the dataframe\n",
    "            master.append(dct)\n",
    "    # Create the DataFrame\n",
    "    #         amazon_reviews_0_df = amazon_reviews_0_df.append(dct, ignore_index=True)\n",
    "    amazon_reviews_0_df = pd.DataFrame(columns = ['review_id','account_name', 'account_link', 'review_date', 'rating', 'review_title', 'review_body'\n",
    "                                      'purchase_type', 'helpful_votes', 'product_id', 'overall_rating'])\n",
    "    amazon_reviews_0_df = amazon_reviews_0_df.append(master, ignore_index=True)\n",
    "    # Save the DataFrame as JSON\n",
    "    amazon_reviews_0_df.to_json(os.path.join(path_to_saved_location, f'{filename}.json'))\n",
    "    return 'Sucess!'"
   ]
  },
  {
   "cell_type": "code",
   "execution_count": 12,
   "id": "aeaf9f3c",
   "metadata": {},
   "outputs": [
    {
     "name": "stderr",
     "output_type": "stream",
     "text": [
      "100%|██████████| 2084/2084 [00:00<00:00, 130311.87it/s]\n",
      "100%|██████████| 2194/2194 [00:00<00:00, 131322.64it/s]\n",
      "100%|██████████| 2043/2043 [00:00<00:00, 117687.75it/s]\n",
      "100%|██████████| 1960/1960 [00:00<00:00, 127910.94it/s]\n",
      "100%|██████████| 2105/2105 [00:00<00:00, 121497.91it/s]\n",
      "100%|██████████| 2191/2191 [00:00<00:00, 131008.47it/s]\n",
      "100%|██████████| 2022/2022 [00:00<00:00, 112633.91it/s]\n",
      "100%|██████████| 2031/2031 [00:00<00:00, 117367.24it/s]\n",
      "100%|██████████| 2094/2094 [00:00<00:00, 121801.64it/s]\n",
      "100%|██████████| 2125/2125 [00:00<00:00, 124071.11it/s]\n"
     ]
    }
   ],
   "source": [
    "for file in os.listdir(path): \n",
    "    create_data_for_tagging(path, file,path_to_saved_location )"
   ]
  },
  {
   "cell_type": "code",
   "execution_count": 13,
   "id": "854ebf12",
   "metadata": {},
   "outputs": [
    {
     "name": "stdout",
     "output_type": "stream",
     "text": [
      "End of Notebook\n"
     ]
    }
   ],
   "source": [
    "print(\"End of Notebook\")"
   ]
  },
  {
   "cell_type": "code",
   "execution_count": null,
   "id": "f0fd4d26",
   "metadata": {},
   "outputs": [],
   "source": []
  }
 ],
 "metadata": {
  "kernelspec": {
   "display_name": "conda_tensorflow2_p310",
   "language": "python",
   "name": "conda_tensorflow2_p310"
  },
  "language_info": {
   "codemirror_mode": {
    "name": "ipython",
    "version": 3
   },
   "file_extension": ".py",
   "mimetype": "text/x-python",
   "name": "python",
   "nbconvert_exporter": "python",
   "pygments_lexer": "ipython3",
   "version": "3.10.8"
  }
 },
 "nbformat": 4,
 "nbformat_minor": 5
}
